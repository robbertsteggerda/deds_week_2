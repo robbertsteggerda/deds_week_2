{
 "cells": [
  {
   "cell_type": "markdown",
   "metadata": {},
   "source": [
    "# Practicumopdrachten Week 2.1 (eerste kans)"
   ]
  },
  {
   "cell_type": "markdown",
   "metadata": {},
   "source": [
    "## Maak een virtual environment"
   ]
  },
  {
   "cell_type": "markdown",
   "metadata": {},
   "source": [
    "Zorg dat je met behulp van de handleiding *Bouw en gebruik van virtual environments - Handleiding* een virtual environment hebt gemaakt, dat jou en je duopartner garandeert altijd dezelfde versie van geïmporteerde dependencies te gebruiken.<br>\n",
    "Voeg hier vervolgens met *poetry add pandas* de pandas-dependency aan toe.<br>\n",
    "Als je dit allemaal goed hebt gedaan moet de onderstaande code bij jullie allebei succesvol runnen:"
   ]
  },
  {
   "cell_type": "code",
   "execution_count": 1,
   "metadata": {},
   "outputs": [
    {
     "name": "stderr",
     "output_type": "stream",
     "text": [
      "C:\\Users\\daisy\\AppData\\Local\\Temp\\ipykernel_4476\\4080736814.py:1: DeprecationWarning: \n",
      "Pyarrow will become a required dependency of pandas in the next major release of pandas (pandas 3.0),\n",
      "(to allow more performant data types, such as the Arrow string type, and better interoperability with other libraries)\n",
      "but was not found to be installed on your system.\n",
      "If this would cause problems for you,\n",
      "please provide us feedback at https://github.com/pandas-dev/pandas/issues/54466\n",
      "        \n",
      "  import pandas as pd\n"
     ]
    }
   ],
   "source": [
    "import pandas as pd"
   ]
  },
  {
   "cell_type": "markdown",
   "metadata": {},
   "source": [
    "Zorg er daarnaast voor dat je...\n",
    "- Het bestand Waarheidstabel_1.png in hetzelfde mapje als dit notebook hebt staan.\n",
    "- Het bestand Prinstabel.png in hetzelfde mapje als dit notebook hebt staan.\n",
    "- Alle informatie onder het kopje *Basisoperaties* van de cheatsheet *Van Java naar Python - Cheatsheet* bij de hand hebt."
   ]
  },
  {
   "cell_type": "markdown",
   "metadata": {},
   "source": [
    "## 1.1: Output, variabelen en input"
   ]
  },
  {
   "cell_type": "markdown",
   "metadata": {},
   "source": [
    "Geef code waarmee het volgende op het scherm komt te staan:<br>\n",
    "geef me je geld <br>\n",
    "of ik gebruik geweld, <br>\n",
    "toen kwam de controle aangesneld"
   ]
  },
  {
   "cell_type": "code",
   "execution_count": null,
   "metadata": {},
   "outputs": [
    {
     "name": "stdout",
     "output_type": "stream",
     "text": [
      "geef me je geld\n",
      "of ik gebruik geweld,\n",
      "toen kwam de controle aangesneld\n"
     ]
    }
   ],
   "source": [
    "print(\"geef me je geld\")\n",
    "print(\"of ik gebruik geweld,\")\n",
    "print(\"toen kwam de controle aangesneld\")"
   ]
  },
  {
   "cell_type": "markdown",
   "metadata": {},
   "source": [
    "Declareer 2 variabelen zodat de volgende tekst geprint wordt:<br>\n",
    "Apenhoofd<br>\n",
    "Paardenstaart"
   ]
  },
  {
   "cell_type": "code",
   "execution_count": null,
   "metadata": {},
   "outputs": [
    {
     "name": "stdout",
     "output_type": "stream",
     "text": [
      "Apenhoofd\n",
      "Paardenstaart\n"
     ]
    }
   ],
   "source": [
    "var1 = \"Apenhoofd\"\n",
    "var2 = \"Paardenstaart\"\n",
    "print(var1)\n",
    "print(var2)"
   ]
  },
  {
   "cell_type": "markdown",
   "metadata": {},
   "source": [
    "Voeg code toe zodat het programma het volgende doet:<br>\n",
    "1): Op het scherm komt A, B, C, D, ..., F, G te staan<br>\n",
    "2): De gebruiker voert een letter in<br>\n",
    "3): Op het scherm komt te staan:<br>\n",
    "Het is inderdaad:<br>\n",
    "*ingevoerde letter*"
   ]
  },
  {
   "cell_type": "code",
   "execution_count": null,
   "metadata": {},
   "outputs": [
    {
     "name": "stdout",
     "output_type": "stream",
     "text": [
      "A,B,C,D,E,F,G\n",
      "het is inderdaad:\n",
      "G\n"
     ]
    }
   ],
   "source": [
    "print(\"A,B,C,D,E,F,G\")\n",
    "char = str(input())\n",
    "print(\"het is inderdaad:\")\n",
    "print(char)"
   ]
  },
  {
   "cell_type": "markdown",
   "metadata": {},
   "source": [
    "## 1.2: Stringconcatenatie en Rekenen"
   ]
  },
  {
   "cell_type": "markdown",
   "metadata": {},
   "source": [
    "Schrijf code dat een inkomen inleest en het volgende uitprint:<br>\n",
    "Uw inkomen (*ingelezen inkomen*) is zeer acceptabel."
   ]
  },
  {
   "cell_type": "code",
   "execution_count": null,
   "metadata": {},
   "outputs": [
    {
     "name": "stdout",
     "output_type": "stream",
     "text": [
      "uw inkomen 3948 is zeer acceptabel.\n"
     ]
    }
   ],
   "source": [
    "inkomen = int(input())\n",
    "print(f\"uw inkomen {inkomen} is zeer acceptabel.\")"
   ]
  },
  {
   "cell_type": "markdown",
   "metadata": {},
   "source": [
    "De oppervlakte van een driehoek is 1/2 * hoogte * basis<br>\n",
    "Schrijf code zodat het programma het volgende doet:<br>\n",
    "1): Op het scherm komt Wat is de basis? te staan<br>\n",
    "2): De gebruiker voert een basis in<br>\n",
    "3): Op het scherm komt Wat is de hoogte? te staan<br>\n",
    "4): De gebruiker voert een hoogte in<br>\n",
    "5): Op het scherm komt: De oppervlakte van de driehoek is *berekende oppervlakte* te staan"
   ]
  },
  {
   "cell_type": "code",
   "execution_count": null,
   "metadata": {},
   "outputs": [
    {
     "name": "stdout",
     "output_type": "stream",
     "text": [
      "Wat is de basis?\n",
      "Wat is de hoogte?\n",
      "de oppervlakte van de driehoek is 12.5\n"
     ]
    }
   ],
   "source": [
    "print(\"Wat is de basis?\")\n",
    "basis = int(input())\n",
    "print(\"Wat is de hoogte?\")\n",
    "hoogte = int(input())\n",
    "\n",
    "oppervlakte = 0.5 * hoogte * basis\n",
    "print(f'de oppervlakte van de driehoek is {oppervlakte}')"
   ]
  },
  {
   "cell_type": "markdown",
   "metadata": {},
   "source": [
    "## 1.3: if() en booleans"
   ]
  },
  {
   "cell_type": "markdown",
   "metadata": {},
   "source": [
    "Schrijf code dat het volgende doet:<br>\n",
    "1): De gebruiker voert in hoe oud iemand is<br>\n",
    "2): De gebruiker voert in of de ouders meegekomen zijn (input is J of N)<br><br>\n",
    "\n",
    "Als...\n",
    "- Jonger dan 6, wel ouders: op het scherm staat Je mag het zwembad in\n",
    "- Jonger dan 6, geen ouders: op het scherm staat Je mag het niet zwembad in\n",
    "- Leeftijd vanaf 6, geen ouders: op het scherm staat Je mag het zwembad in als je een diploma hebt\n",
    "- Leeftijd vanaf 6, wel ouders: op het scherm staat Waarom neem je nog je ouders mee?"
   ]
  },
  {
   "cell_type": "code",
   "execution_count": 10,
   "metadata": {},
   "outputs": [
    {
     "name": "stdout",
     "output_type": "stream",
     "text": [
      "hoe oud is de persoon?\n",
      "zijn de ouders meegekomen? (J/N)\n",
      "incorrecte input\n",
      "incorrecte input\n",
      "Waarom neem je nog je ouders mee?\n"
     ]
    }
   ],
   "source": [
    "print(\"hoe oud is de persoon?\")\n",
    "leeftijd = int(input())\n",
    "print(\"zijn de ouders meegekomen? (J/N)\")\n",
    "while True:\n",
    "    oudersMeegekomen = str(input(\"Enter 'J' or 'N': \")).upper()  \n",
    "    if oudersMeegekomen in (\"J\", \"N\"):\n",
    "        break \n",
    "    print(\"incorrecte input\")\n",
    "oudersMeegekomenBool = True;\n",
    "if oudersMeegekomen == \"N\":\n",
    "     oudersMeegekomenBool = False\n",
    "\n",
    "if leeftijd < 6 and oudersMeegekomenBool:\n",
    "    print(\"Je mag het zwembad in\")\n",
    "if leeftijd < 6 and not oudersMeegekomenBool:\n",
    "    print(\"Je mag het zwembad niet in\")\n",
    "if leeftijd >= 6 and not oudersMeegekomenBool:\n",
    "    print(\"Je mag het zwembad in als je een diploma hebt\")\n",
    "if leeftijd >= 6 and oudersMeegekomenBool:\n",
    "    print(\"Waarom neem je nog je ouders mee?\")\n"
   ]
  },
  {
   "cell_type": "markdown",
   "metadata": {},
   "source": [
    "Schrijf code zodat de boolean-variabelen een en twee aangemaakt worden en waarmee de juiste waarde in de boolean-variabele uitkomst komt te staan. In de waarheidstabel hieronder staat wat de waarde van uitkomst is bij de verschillende mogelijke combinaties van een en twee.<br><br>\n",
    "<img src=\"Waarheidstabel_1.png\">"
   ]
  },
  {
   "cell_type": "code",
   "execution_count": null,
   "metadata": {},
   "outputs": [],
   "source": [
    "een = False\n",
    "twee = True\n",
    "\n"
   ]
  },
  {
   "cell_type": "markdown",
   "metadata": {},
   "source": [
    "## 1.4: Methoden"
   ]
  },
  {
   "cell_type": "markdown",
   "metadata": {},
   "source": [
    "Schrijf een methode wachtwoord die als parameters twee woorden meekrijgt en het volgende controleert:\n",
    "- Als de woorden gelijk zijn, print het programma gelijk.\n",
    "- Als de woorden ongelijk zijn print het programma ongelijk.\n",
    "\n",
    "Vergeet niet dat je de methode niet alleen aan moet maken, maar ook aan moet roepen om output te krijgen."
   ]
  },
  {
   "cell_type": "code",
   "execution_count": 30,
   "metadata": {},
   "outputs": [
    {
     "name": "stdout",
     "output_type": "stream",
     "text": [
      "Ongelijk!\n",
      "Gelijk!\n"
     ]
    }
   ],
   "source": [
    "def gelijk(woord1, woord2):\n",
    "    if woord1 == woord2:\n",
    "        print(\"Gelijk!\")\n",
    "    else:\n",
    "        print(\"Ongelijk!\")\n",
    "\n",
    "gelijk(\"abc\", \"def\")\n",
    "gelijk(\"abc\", \"abc\")\n"
   ]
  },
  {
   "cell_type": "markdown",
   "metadata": {},
   "source": [
    "Schrijf de methode zoekPrins die als parameter een prinses meekrijgt en vervolgens de bijbehorende prins teruggeeft, volgens de volgende tabel:<br><br>\n",
    "<img src=\"Prinstabel.png\"><br>\n",
    "Als de naam van de prinses niet in de tabel staat wordt het volgende door de methode teruggegeven: naamloos.<br>\n",
    "Roep ten slotte de gemaakte methode ook daadwerkelijk aan met een zelfgekozen prinsessennaam."
   ]
  },
  {
   "cell_type": "code",
   "execution_count": null,
   "metadata": {},
   "outputs": [],
   "source": []
  },
  {
   "cell_type": "markdown",
   "metadata": {},
   "source": [
    "## 1.5: While"
   ]
  },
  {
   "cell_type": "markdown",
   "metadata": {},
   "source": [
    "Schrijf de inhoud van de methode wachtwoord. Deze heeft geen parameters en laat de gebruiker twee wachtwoorden invoeren, waarna hij bekijkt of deze gelijk zijn. Zolang dat niet het geval is wordt er eerst Fout, probeer het opnieuw! uitgeprint en moet de gebruiker het opnieuw proberen.<br>Als de gebruiker het goed doet, komt er Succes! op het scherm te staan."
   ]
  },
  {
   "cell_type": "code",
   "execution_count": 29,
   "metadata": {},
   "outputs": [
    {
     "name": "stdout",
     "output_type": "stream",
     "text": [
      "Fout, probeer het opnieuw!\n",
      "Fout, probeer het opnieuw!\n",
      "Succes!\n"
     ]
    }
   ],
   "source": [
    "def wachtwoord():\n",
    "    wachtwoord1 = 0\n",
    "    wachtwoord2 = 1\n",
    "\n",
    "    while wachtwoord1 != wachtwoord2:\n",
    "        wachtwoord1 = input(\"Voer wachtwoord 1 in:\")\n",
    "        wachtwoord2 = input(\"Voer wachtwoord 2 in:\")\n",
    "        \n",
    "        if wachtwoord1 == wachtwoord2:\n",
    "            print(\"Succes!\")\n",
    "        else:\n",
    "            print(\"Fout, probeer het opnieuw!\")\n",
    "        \n",
    "wachtwoord()\n",
    "    "
   ]
  },
  {
   "cell_type": "markdown",
   "metadata": {},
   "source": [
    "Schrijf de inhoud van de methode tafels. De methode print alle tafels vanaf 1 (dus inclusief de tafel van 1) tot en met de tafel van het meegekregen getal (dus inclusief de tafel van getal).  Zet een witregel tussen alle tafels in. <br>\n",
    "Let op:\n",
    "- Gebruik een while-loop\n",
    "- Gebruik de reeds geschreven methode tafel om een tafel uit te printen"
   ]
  },
  {
   "cell_type": "code",
   "execution_count": 37,
   "metadata": {},
   "outputs": [
    {
     "name": "stdout",
     "output_type": "stream",
     "text": [
      "1 x 1 = 1\n",
      "2 x 1 = 2\n",
      "3 x 1 = 3\n",
      "4 x 1 = 4\n",
      "5 x 1 = 5\n",
      "6 x 1 = 6\n",
      "7 x 1 = 7\n",
      "8 x 1 = 8\n",
      "9 x 1 = 9\n",
      "10 x 1 = 10\n",
      "\n",
      "1 x 2 = 2\n",
      "2 x 2 = 4\n",
      "3 x 2 = 6\n",
      "4 x 2 = 8\n",
      "5 x 2 = 10\n",
      "6 x 2 = 12\n",
      "7 x 2 = 14\n",
      "8 x 2 = 16\n",
      "9 x 2 = 18\n",
      "10 x 2 = 20\n",
      "\n",
      "1 x 3 = 3\n",
      "2 x 3 = 6\n",
      "3 x 3 = 9\n",
      "4 x 3 = 12\n",
      "5 x 3 = 15\n",
      "6 x 3 = 18\n",
      "7 x 3 = 21\n",
      "8 x 3 = 24\n",
      "9 x 3 = 27\n",
      "10 x 3 = 30\n",
      "\n",
      "1 x 4 = 4\n",
      "2 x 4 = 8\n",
      "3 x 4 = 12\n",
      "4 x 4 = 16\n",
      "5 x 4 = 20\n",
      "6 x 4 = 24\n",
      "7 x 4 = 28\n",
      "8 x 4 = 32\n",
      "9 x 4 = 36\n",
      "10 x 4 = 40\n",
      "\n",
      "1 x 5 = 5\n",
      "2 x 5 = 10\n",
      "3 x 5 = 15\n",
      "4 x 5 = 20\n",
      "5 x 5 = 25\n",
      "6 x 5 = 30\n",
      "7 x 5 = 35\n",
      "8 x 5 = 40\n",
      "9 x 5 = 45\n",
      "10 x 5 = 50\n",
      "\n"
     ]
    }
   ],
   "source": [
    "def tafel(getal: int):\n",
    "    teller: int = 1\n",
    "\n",
    "    while(teller <= 10):\n",
    "        print(f'{teller} x {getal} = {teller * getal}')\n",
    "        teller += 1\n",
    "\n",
    "def tafels(getal: int):\n",
    "    for t in range(1, getal+1):\n",
    "        tafel(t)\n",
    "        print(\"\")\n",
    "\n",
    "x: int = int(input())\n",
    "tafels(x)"
   ]
  },
  {
   "cell_type": "markdown",
   "metadata": {},
   "source": [
    "## For-loop"
   ]
  },
  {
   "cell_type": "markdown",
   "metadata": {},
   "source": [
    "Vervang de while-loop door een werkende for-loop. De uitkomst van het programma mag daarbij niet veranderen."
   ]
  },
  {
   "cell_type": "code",
   "execution_count": 31,
   "metadata": {},
   "outputs": [
    {
     "name": "stdout",
     "output_type": "stream",
     "text": [
      "huidige getal: 0\n",
      "huidige getal: 1\n",
      "huidige getal: 2\n",
      "huidige getal: 3\n",
      "huidige getal: 4\n",
      "huidige getal: 5\n",
      "huidige getal: 6\n",
      "huidige getal: 7\n",
      "huidige getal: 8\n",
      "huidige getal: 9\n",
      "huidige getal: 10\n"
     ]
    }
   ],
   "source": [
    "def loopje():\n",
    "    aantal = 0\n",
    "\n",
    "    for _ in range(11):\n",
    "        print(f\"huidige getal: {aantal}\")\n",
    "        aantal += 1\n",
    "\n",
    "loopje()"
   ]
  },
  {
   "cell_type": "markdown",
   "metadata": {},
   "source": [
    "Schrijf de methode checkEven die achtereenvolgens 12 getallen inleest en afdrukt hoe vaak het ingevoerde getal even was."
   ]
  },
  {
   "cell_type": "code",
   "execution_count": 25,
   "metadata": {},
   "outputs": [
    {
     "name": "stdout",
     "output_type": "stream",
     "text": [
      "2\n"
     ]
    }
   ],
   "source": [
    "def checkEven():\n",
    "    even = 0\n",
    "    for _ in range(12):\n",
    "        try:\n",
    "            result = int(input(\"Getal: \"))\n",
    "        except:\n",
    "            print(\"Ongeldig getal.\")\n",
    "            return\n",
    "\n",
    "        if result % 2 == 0:\n",
    "            even += 1\n",
    "    \n",
    "    print(even)\n",
    "\n",
    "checkEven()"
   ]
  },
  {
   "cell_type": "markdown",
   "metadata": {},
   "source": [
    "## Objectoriëntatie"
   ]
  },
  {
   "cell_type": "markdown",
   "metadata": {},
   "source": [
    "Maak een minisysteem voor een kledingwinkel. Maak verschillende klassen voor verschillende soorten kledingstukken, waarbij sommige klassen geërfd worden van andere klassen.\n",
    "- Maak een klasse Kledingstuk aan, waarin door de constructor een merk, een maat en een prijs geïnitialiseerd worden.\n",
    "- Maak een klasse Broek en een klasse Shirt, beide erven van de klasse Kledingstuk. Voeg aan Broek een broek_type, en aan Shirt een shirt_type toe (d.m.v. constructorgebruik).\n",
    "- Maak een klasse Spijkerbroek die erft van broek en een klasse Poloshirt die erft van shirt. Voeg aan Spijkerbroek een blauwtint toe, en aan Poloshirt een kraagsoort (d.m.v. constructorgebruik).\n",
    "- Implementeer in elke klasse een beschrijf-methode, waarmee alle informatie over het betreffende kledingstuk wordt afgedrukt.\n",
    "- Maak van elke klasse een object aan en roep de beschrijfmethode aan. Controleer nauwkeurig of alles naar behoren werkt."
   ]
  },
  {
   "cell_type": "code",
   "execution_count": 20,
   "metadata": {},
   "outputs": [
    {
     "name": "stdout",
     "output_type": "stream",
     "text": [
      "Merk:  Ralph lauren\n",
      "Maat:  Large\n",
      "Prijs:  20.5\n",
      "Merk:  Ralph lauren\n",
      "Maat:  Large\n",
      "Prijs:  20.5\n",
      "Shirt Type:  Longsleeve\n",
      "Merk:  Ralph lauren\n",
      "Maat:  Large\n",
      "Prijs:  35.5\n",
      "Broek Type:  Jeans\n",
      "Merk:  Lacoste\n",
      "Maat:  Medium\n",
      "Prijs:  29.5\n",
      "Shirt Type:  Polo\n",
      "Kraagsoort:  Kraag\n",
      "Merk:  Ralph lauren\n",
      "Maat:  Large\n",
      "Prijs:  20.5\n",
      "Broek Type:  Spijkerbroek\n",
      "Blauw Tint:  Ja\n"
     ]
    }
   ],
   "source": [
    "class Kledingstuk():\n",
    "    def __init__(self, merk, maat, prijs):\n",
    "        self.merk = merk\n",
    "        self.maat = maat\n",
    "        self.prijs = prijs\n",
    "    \n",
    "    def beschrijf(self): \n",
    "        print(\"Merk: \", self.merk)\n",
    "        print(\"Maat: \", self.maat)\n",
    "        print(\"Prijs: \", self.prijs)\n",
    "        \n",
    "\n",
    "class Broek(Kledingstuk):\n",
    "    def __init__(self, merk, maat, prijs, broek_type):\n",
    "        self.broek_type = broek_type\n",
    "        super().__init__(merk, maat, prijs)\n",
    "    \n",
    "    def beschrijf(self): \n",
    "        super().beschrijf()\n",
    "        print(\"Broek Type: \", self.broek_type)\n",
    "\n",
    "class Shirt(Kledingstuk):\n",
    "    def __init__(self, merk, maat, prijs, shirt_type):\n",
    "        self.shirt_type = shirt_type\n",
    "        super().__init__(merk, maat, prijs)\n",
    "\n",
    "    def beschrijf(self):\n",
    "        super().beschrijf()\n",
    "        print(\"Shirt Type: \", self.shirt_type)\n",
    "    \n",
    "\n",
    "class Spijkerbroek(Broek):\n",
    "    broek_type = \"Spijkerbroek\"\n",
    "\n",
    "    def __init__(self, merk, maat, prijs, blauwtint):\n",
    "        self.blauwtint = blauwtint\n",
    "        super().__init__(merk, maat, prijs, self.broek_type)\n",
    "    \n",
    "    def beschrijf(self): \n",
    "        super().beschrijf()\n",
    "        print(\"Blauw Tint: \", self.blauwtint)\n",
    "\n",
    "class Poloshirt(Shirt):\n",
    "    shirt_type = \"Polo\"\n",
    "\n",
    "    def __init__(self, merk, maat, prijs, kraagsoort):\n",
    "        self.kraagsoort = kraagsoort\n",
    "        super().__init__(merk, maat, prijs, self.shirt_type)\n",
    "    \n",
    "    def beschrijf(self): \n",
    "        super().beschrijf()\n",
    "        print(\"Kraagsoort: \", self.kraagsoort)\n",
    "\n",
    "\n",
    "kledingstuk = Kledingstuk(\"Ralph lauren\", \"Large\", 20.50)\n",
    "kledingstuk.beschrijf()\n",
    "\n",
    "shirt = Shirt(\"Ralph lauren\", \"Large\", 20.50, \"Longsleeve\")\n",
    "shirt.beschrijf()\n",
    "\n",
    "broek = Broek(\"Ralph lauren\", \"Large\", 35.50, \"Jeans\")\n",
    "broek.beschrijf()\n",
    "\n",
    "polo = Poloshirt(\"Lacoste\", \"Medium\", 29.50, \"Kraag\" )\n",
    "polo.beschrijf()\n",
    "\n",
    "spijkerbroek = Spijkerbroek(\"Ralph lauren\", \"Large\", 20.50, \"Ja\")\n",
    "spijkerbroek.beschrijf()\n",
    "\n",
    "\n"
   ]
  },
  {
   "cell_type": "markdown",
   "metadata": {},
   "source": [
    "Opmerking: in themaweken 2 t/m 8 ga je objectoriëntatie waarschijnlijk veel minder vaak gebruiken dan de andere boven- en ondergenoemde programmeertechnieken.<br>\n",
    "Maar let op: in themaweken 9 en 10 komt objectoriëntatie <b><u>uitvoerig</u></b> aan de orde. Zorg dus dat je deze kennis niet vergeet!"
   ]
  },
  {
   "cell_type": "markdown",
   "metadata": {},
   "source": [
    "## Verzamelingen"
   ]
  },
  {
   "cell_type": "markdown",
   "metadata": {},
   "source": [
    "Kijk nu naar alle info onder het kopje *Verzamelingen* van de cheatsheet *Van Java naar Python - Cheatsheet*."
   ]
  },
  {
   "cell_type": "markdown",
   "metadata": {},
   "source": [
    "Initialiseer een lijst met de naam mijn_lijst met de volgende waarden:<br>\n",
    "Jelle, Marleen, Henk, Fatima, Jelle, Henk"
   ]
  },
  {
   "cell_type": "code",
   "execution_count": 5,
   "metadata": {},
   "outputs": [],
   "source": [
    "mijn_lijst = [\"Jelle\", \"Marleen\", \"Fatima\", \"Jelle\", \"Henk\"]"
   ]
  },
  {
   "cell_type": "markdown",
   "metadata": {},
   "source": [
    "Probeer nu de eerste waarde uit te lijst te veranderen in een naam naar keuze. Lukt dat?"
   ]
  },
  {
   "cell_type": "code",
   "execution_count": 9,
   "metadata": {},
   "outputs": [
    {
     "data": {
      "text/plain": [
       "['Godwin', 'Marleen', 'Fatima', 'Jelle', 'Henk']"
      ]
     },
     "execution_count": 9,
     "metadata": {},
     "output_type": "execute_result"
    }
   ],
   "source": [
    "mijn_lijst[0] = \"Godwin\" \n",
    "\n",
    "mijn_lijst # Ja, dat lukt"
   ]
  },
  {
   "cell_type": "markdown",
   "metadata": {},
   "source": [
    "Maak van bovengenoemde lijst nu een tupel, genaamd: mijn_tupel."
   ]
  },
  {
   "cell_type": "code",
   "execution_count": 11,
   "metadata": {},
   "outputs": [
    {
     "data": {
      "text/plain": [
       "('Godwin', 'Marleen', 'Fatima', 'Jelle', 'Henk')"
      ]
     },
     "execution_count": 11,
     "metadata": {},
     "output_type": "execute_result"
    }
   ],
   "source": [
    "mijn_tupel = tuple(mijn_lijst)\n",
    "\n",
    "mijn_tupel"
   ]
  },
  {
   "cell_type": "markdown",
   "metadata": {},
   "source": [
    "Probeer nu de eerste waarde uit te tupel te veranderen in een naam naar keuze. Lukt dat?"
   ]
  },
  {
   "cell_type": "code",
   "execution_count": 12,
   "metadata": {},
   "outputs": [
    {
     "ename": "TypeError",
     "evalue": "'tuple' object does not support item assignment",
     "output_type": "error",
     "traceback": [
      "\u001b[1;31m---------------------------------------------------------------------------\u001b[0m",
      "\u001b[1;31mTypeError\u001b[0m                                 Traceback (most recent call last)",
      "Cell \u001b[1;32mIn[12], line 1\u001b[0m\n\u001b[1;32m----> 1\u001b[0m \u001b[43mmijn_tupel\u001b[49m\u001b[43m[\u001b[49m\u001b[38;5;241;43m0\u001b[39;49m\u001b[43m]\u001b[49m \u001b[38;5;241m=\u001b[39m \u001b[38;5;124m\"\u001b[39m\u001b[38;5;124mRobert\u001b[39m\u001b[38;5;124m\"\u001b[39m\n\u001b[0;32m      3\u001b[0m mijn_tupel\n",
      "\u001b[1;31mTypeError\u001b[0m: 'tuple' object does not support item assignment"
     ]
    }
   ],
   "source": [
    "mijn_tupel[0] = \"Robert\"\n",
    "\n",
    "mijn_tupel # Nee, dat lukt niet"
   ]
  },
  {
   "cell_type": "markdown",
   "metadata": {},
   "source": [
    "Initialiseer een dictionary met de volgende key-value-combinaties:\n",
    "- naam: \"Jelle\"\n",
    "- leeftijd: 28\n",
    "- beroep: \"Docent\"\n",
    "- hobby: \"Volleybal\""
   ]
  },
  {
   "cell_type": "code",
   "execution_count": 14,
   "metadata": {},
   "outputs": [],
   "source": [
    "dict = {\n",
    "    \"naam\": \"Jelle\",\n",
    "    \"leeftijd\": 28,\n",
    "    \"beroep\": \"Docent\",\n",
    "    \"hobby\": \"Volleybal\"\n",
    "}"
   ]
  },
  {
   "cell_type": "markdown",
   "metadata": {},
   "source": [
    "Probeer nu de naam te veranderen naar een naam naar keuze. Lukt dat?"
   ]
  },
  {
   "cell_type": "code",
   "execution_count": 17,
   "metadata": {},
   "outputs": [
    {
     "data": {
      "text/plain": [
       "'Godwin'"
      ]
     },
     "execution_count": 17,
     "metadata": {},
     "output_type": "execute_result"
    }
   ],
   "source": [
    "dict[\"naam\"] = \"Godwin\" # Ja dat lukt\n",
    "\n",
    "dict[\"naam\"]"
   ]
  }
 ],
 "metadata": {
  "kernelspec": {
   "display_name": "python-in-deds-P4iSP_yI-py3.11",
   "language": "python",
   "name": "python3"
  },
  "language_info": {
   "codemirror_mode": {
    "name": "ipython",
    "version": 3
   },
   "file_extension": ".py",
   "mimetype": "text/x-python",
   "name": "python",
   "nbconvert_exporter": "python",
   "pygments_lexer": "ipython3",
   "version": "3.12.2"
  }
 },
 "nbformat": 4,
 "nbformat_minor": 2
}
