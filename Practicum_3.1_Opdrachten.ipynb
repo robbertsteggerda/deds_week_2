{
 "cells": [
  {
   "cell_type": "code",
   "execution_count": 140,
   "metadata": {},
   "outputs": [
    {
     "name": "stdout",
     "output_type": "stream",
     "text": [
      "[76, 62, 3, 80, 5, 72, 18, 34, 7, 13, 96, 31, 54, 54, 17, 46, 100, 90, 57, 57]\n",
      "[16, 37, 85, 65, 95, 18, 17, 4, 27, 54, 49, 96, 4, 96, 72, 84, 44, 69, 99, 7]\n",
      "[74, 16, 14, 74, 13, 21, 100, 38, 6, 16, 67, 70, 98, 52, 30, 68, 42, 34, 10, 50]\n"
     ]
    }
   ],
   "source": [
    "import random\n",
    "\n",
    "i = 0\n",
    "List1 = []\n",
    "List2 = []\n",
    "List3 = []\n",
    "for i in range (0,20):\n",
    "    List1.append(random.randint(0,100))\n",
    "    List2.append(random.randint(0,100))\n",
    "    List3.append(random.randint(0,100))\n",
    "\n",
    "print(List1)\n",
    "print(List2)\n",
    "print(List3)"
   ]
  },
  {
   "cell_type": "code",
   "execution_count": 141,
   "metadata": {},
   "outputs": [
    {
     "name": "stdout",
     "output_type": "stream",
     "text": [
      "[3, 5, 7, 13, 17, 18, 31, 34, 46, 54, 54, 57, 57, 62, 72, 76, 80, 90, 96, 100]\n"
     ]
    }
   ],
   "source": [
    "def SelectionSort(List):\n",
    "    sorted = True\n",
    "    i = 0\n",
    "    j = 1\n",
    "    smallestNumberIndex = 0\n",
    "    for i in range (0,len(List)):\n",
    "        smallestNumberIndex = i\n",
    "        for j in range(i+1,len(List)):\n",
    "            if(List[j] < List[smallestNumberIndex]):\n",
    "                smallestNumberIndex = j\n",
    "        if i != smallestNumberIndex:\n",
    "            temp = List[i]\n",
    "            List[i] = List[smallestNumberIndex]\n",
    "            List[smallestNumberIndex] = temp\n",
    "            sorted = False \n",
    "    return List\n",
    "\n",
    "print(SelectionSort(List1))\n",
    "        \n",
    "\n",
    "\n",
    "\n",
    "\n",
    "        "
   ]
  },
  {
   "cell_type": "code",
   "execution_count": 142,
   "metadata": {},
   "outputs": [
    {
     "data": {
      "text/plain": [
       "[4, 4, 7, 16, 17, 18, 27, 37, 44, 49, 54, 65, 69, 72, 84, 85, 95, 96, 96, 99]"
      ]
     },
     "execution_count": 142,
     "metadata": {},
     "output_type": "execute_result"
    }
   ],
   "source": [
    "def InsertionSort(List):\n",
    "    output = []\n",
    "    while len(List) > 0:\n",
    "        smallestNumberIndex = 0\n",
    "        for i in range (0,len(List)):\n",
    "            if List[i] < List[smallestNumberIndex]:\n",
    "                smallestNumberIndex = i\n",
    "        smallestNumber = List.pop(smallestNumberIndex)\n",
    "        output.append(smallestNumber)\n",
    "\n",
    "    return output\n",
    "\n",
    "InsertionSort(List2)"
   ]
  },
  {
   "cell_type": "code",
   "execution_count": 143,
   "metadata": {},
   "outputs": [
    {
     "name": "stdout",
     "output_type": "stream",
     "text": [
      "[6, 10, 13, 14, 16, 16, 21, 30, 34, 38, 42, 50, 52, 67, 68, 70, 74, 74, 98, 100]\n"
     ]
    }
   ],
   "source": [
    "def BubbleSort(List):\n",
    "    i = 0\n",
    "    sorted = True\n",
    "    for i in range (0,len(List)-1):\n",
    "        if List[i] > List[i+1]:\n",
    "            temp = List[i+1]\n",
    "            List[i+1] = List[i]\n",
    "            List[i] = temp\n",
    "            sorted = False\n",
    "    if sorted is False:\n",
    "        BubbleSort(List)\n",
    "    return List\n",
    "\n",
    "print(BubbleSort(List3))"
   ]
  }
 ],
 "metadata": {
  "kernelspec": {
   "display_name": "Python 3",
   "language": "python",
   "name": "python3"
  },
  "language_info": {
   "codemirror_mode": {
    "name": "ipython",
    "version": 3
   },
   "file_extension": ".py",
   "mimetype": "text/x-python",
   "name": "python",
   "nbconvert_exporter": "python",
   "pygments_lexer": "ipython3",
   "version": "3.12.2"
  }
 },
 "nbformat": 4,
 "nbformat_minor": 2
}
