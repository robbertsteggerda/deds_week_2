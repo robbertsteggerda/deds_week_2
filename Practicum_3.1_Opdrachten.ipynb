{
 "cells": [
  {
   "cell_type": "code",
   "execution_count": 9,
   "metadata": {},
   "outputs": [
    {
     "name": "stdout",
     "output_type": "stream",
     "text": [
      "[32, 85, 65, 16, 57, 73, 93, 19, 41, 4, 11, 14, 11, 87, 68, 73, 46, 93, 61, 35]\n",
      "[21, 33, 28, 89, 64, 48, 46, 74, 72, 43, 43, 93, 26, 2, 18, 89, 31, 59, 93, 36]\n",
      "[3, 20, 36, 57, 95, 69, 45, 39, 48, 5, 41, 6, 100, 66, 8, 11, 94, 37, 31, 69]\n"
     ]
    }
   ],
   "source": [
    "import random\n",
    "\n",
    "i = 0\n",
    "List1 = []\n",
    "List2 = []\n",
    "List3 = []\n",
    "for i in range (0,20):\n",
    "    List1.append(random.randint(0,100))\n",
    "    List2.append(random.randint(0,100))\n",
    "    List3.append(random.randint(0,100))\n",
    "\n",
    "print(List1)\n",
    "print(List2)\n",
    "print(List3)"
   ]
  },
  {
   "cell_type": "code",
   "execution_count": null,
   "metadata": {},
   "outputs": [],
   "source": []
  }
 ],
 "metadata": {
  "kernelspec": {
   "display_name": "Python 3",
   "language": "python",
   "name": "python3"
  },
  "language_info": {
   "codemirror_mode": {
    "name": "ipython",
    "version": 3
   },
   "file_extension": ".py",
   "mimetype": "text/x-python",
   "name": "python",
   "nbconvert_exporter": "python",
   "pygments_lexer": "ipython3",
   "version": "3.12.2"
  }
 },
 "nbformat": 4,
 "nbformat_minor": 2
}
