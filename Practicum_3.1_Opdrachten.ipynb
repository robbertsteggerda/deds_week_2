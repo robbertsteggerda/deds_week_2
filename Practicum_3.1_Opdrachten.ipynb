{
 "cells": [
  {
   "cell_type": "code",
   "execution_count": 35,
   "metadata": {},
   "outputs": [
    {
     "name": "stdout",
     "output_type": "stream",
     "text": [
      "[17, 1, 84, 79, 78, 44, 24, 56, 20, 6, 44, 75, 68, 89, 63, 23, 27, 80, 37, 62]\n",
      "[59, 86, 41, 83, 50, 4, 37, 15, 18, 63, 23, 66, 91, 50, 33, 70, 8, 71, 40, 51]\n",
      "[27, 65, 8, 83, 68, 19, 14, 51, 49, 77, 87, 71, 17, 100, 57, 71, 69, 23, 6, 27]\n"
     ]
    }
   ],
   "source": [
    "import random\n",
    "\n",
    "i = 0\n",
    "List1 = []\n",
    "List2 = []\n",
    "List3 = []\n",
    "for i in range (0,20):\n",
    "    List1.append(random.randint(0,100))\n",
    "    List2.append(random.randint(0,100))\n",
    "    List3.append(random.randint(0,100))\n",
    "\n",
    "print(List1)\n",
    "print(List2)\n",
    "print(List3)"
   ]
  },
  {
   "cell_type": "code",
   "execution_count": 36,
   "metadata": {},
   "outputs": [
    {
     "name": "stdout",
     "output_type": "stream",
     "text": [
      "[1, 6, 17, 20, 23, 24, 27, 37, 44, 44, 56, 62, 63, 68, 75, 78, 79, 80, 84, 89]\n"
     ]
    }
   ],
   "source": [
    "def SelectionSort(List):\n",
    "    sorted = True\n",
    "    i = 0\n",
    "    j = 1\n",
    "    smallestNumberIndex = 0\n",
    "    for i in range (0,len(List)):\n",
    "        smallestNumberIndex = i\n",
    "        for j in range(i+1,len(List)):\n",
    "            if(List[j] < List[smallestNumberIndex]):\n",
    "                smallestNumberIndex = j\n",
    "        if i != smallestNumberIndex:\n",
    "            temp = List[i]\n",
    "            List[i] = List[smallestNumberIndex]\n",
    "            List[smallestNumberIndex] = temp\n",
    "            sorted = False \n",
    "    return List\n",
    "\n",
    "print(SelectionSort(List1))\n",
    "        \n",
    "\n",
    "\n",
    "\n",
    "\n",
    "        "
   ]
  }
 ],
 "metadata": {
  "kernelspec": {
   "display_name": "Python 3",
   "language": "python",
   "name": "python3"
  },
  "language_info": {
   "codemirror_mode": {
    "name": "ipython",
    "version": 3
   },
   "file_extension": ".py",
   "mimetype": "text/x-python",
   "name": "python",
   "nbconvert_exporter": "python",
   "pygments_lexer": "ipython3",
   "version": "3.12.2"
  }
 },
 "nbformat": 4,
 "nbformat_minor": 2
}
