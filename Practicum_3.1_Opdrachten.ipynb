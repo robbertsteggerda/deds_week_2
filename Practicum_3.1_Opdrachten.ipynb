{
 "cells": [
  {
   "cell_type": "code",
   "execution_count": 150,
   "metadata": {},
   "outputs": [
    {
     "name": "stdout",
     "output_type": "stream",
     "text": [
      "[81, 47, 74, 90, 96, 12, 91, 46, 65, 3, 73, 10, 49, 32, 19, 90, 65, 45, 100, 13]\n",
      "[21, 79, 70, 15, 68, 95, 36, 47, 0, 89, 93, 33, 67, 93, 43, 96, 94, 31, 78, 88]\n",
      "[40, 63, 64, 2, 2, 80, 24, 76, 81, 1, 39, 32, 15, 73, 63, 42, 27, 100, 34, 94]\n"
     ]
    }
   ],
   "source": [
    "import random\n",
    "\n",
    "i = 0\n",
    "List1 = []\n",
    "List2 = []\n",
    "List3 = []\n",
    "for i in range (0,20):\n",
    "    List1.append(random.randint(0,100))\n",
    "    List2.append(random.randint(0,100))\n",
    "    List3.append(random.randint(0,100))\n",
    "\n",
    "print(List1)\n",
    "print(List2)\n",
    "print(List3)"
   ]
  },
  {
   "cell_type": "code",
   "execution_count": 151,
   "metadata": {},
   "outputs": [
    {
     "name": "stdout",
     "output_type": "stream",
     "text": [
      "[3, 10, 12, 13, 19, 32, 45, 46, 47, 49, 65, 65, 73, 74, 81, 90, 90, 91, 96, 100]\n"
     ]
    }
   ],
   "source": [
    "def SelectionSort(List):\n",
    "    i = 0\n",
    "    j = 1\n",
    "    smallestNumberIndex = 0\n",
    "    for i in range (0,len(List)):\n",
    "        smallestNumberIndex = i\n",
    "        for j in range(i+1,len(List)): #voor elke index: check voor elk nummer erna of deze kleiner is\n",
    "            if(List[j] < List[smallestNumberIndex]):\n",
    "                smallestNumberIndex = j\n",
    "        if i != smallestNumberIndex: #als i niet hetzelfde is als het kleinste nummer: wissel i en het kleinste nummer om\n",
    "            temp = List[i]\n",
    "            List[i] = List[smallestNumberIndex]\n",
    "            List[smallestNumberIndex] = temp\n",
    "    return List\n",
    "\n",
    "print(SelectionSort(List1))\n",
    "        \n",
    "\n",
    "\n",
    "\n",
    "\n",
    "        "
   ]
  },
  {
   "cell_type": "code",
   "execution_count": 152,
   "metadata": {},
   "outputs": [
    {
     "data": {
      "text/plain": [
       "[0, 15, 21, 31, 33, 36, 43, 47, 67, 68, 70, 78, 79, 88, 89, 93, 93, 94, 95, 96]"
      ]
     },
     "execution_count": 152,
     "metadata": {},
     "output_type": "execute_result"
    }
   ],
   "source": [
    "def InsertionSort(List):\n",
    "    output = []\n",
    "    while len(List) > 0:\n",
    "        smallestNumberIndex = 0\n",
    "        for i in range (0,len(List)): #vind het kleinste nummer, verwijder dit uit de lijst en zet het achteraan in de outputlijst\n",
    "            if List[i] < List[smallestNumberIndex]:\n",
    "                smallestNumberIndex = i\n",
    "        smallestNumber = List.pop(smallestNumberIndex)\n",
    "        output.append(smallestNumber)\n",
    "\n",
    "    return output\n",
    "\n",
    "InsertionSort(List2)"
   ]
  },
  {
   "cell_type": "code",
   "execution_count": 153,
   "metadata": {},
   "outputs": [
    {
     "name": "stdout",
     "output_type": "stream",
     "text": [
      "[1, 2, 2, 15, 24, 27, 32, 34, 39, 40, 42, 63, 63, 64, 73, 76, 80, 81, 94, 100]\n"
     ]
    }
   ],
   "source": [
    "def BubbleSort(List):\n",
    "    i = 0\n",
    "    sorted = True\n",
    "    for i in range (0,len(List)-1): #check of het nummer op index i groter is dan het volgende nummer; zoja wissel ze om\n",
    "        if List[i] > List[i+1]:\n",
    "            temp = List[i+1]\n",
    "            List[i+1] = List[i]\n",
    "            List[i] = temp\n",
    "            sorted = False\n",
    "    if sorted is False:\n",
    "        BubbleSort(List) #gebruik recursie\n",
    "    return List\n",
    "\n",
    "print(BubbleSort(List3))"
   ]
  }
 ],
 "metadata": {
  "kernelspec": {
   "display_name": "Python 3",
   "language": "python",
   "name": "python3"
  },
  "language_info": {
   "codemirror_mode": {
    "name": "ipython",
    "version": 3
   },
   "file_extension": ".py",
   "mimetype": "text/x-python",
   "name": "python",
   "nbconvert_exporter": "python",
   "pygments_lexer": "ipython3",
   "version": "3.12.2"
  }
 },
 "nbformat": 4,
 "nbformat_minor": 2
}
