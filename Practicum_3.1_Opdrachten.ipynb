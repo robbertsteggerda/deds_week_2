{
 "cells": [
  {
   "cell_type": "code",
   "execution_count": 76,
   "metadata": {},
   "outputs": [
    {
     "name": "stdout",
     "output_type": "stream",
     "text": [
      "[80, 33, 85, 2, 92, 31, 64, 99, 74, 39, 72, 80, 46, 62, 68, 61, 92, 66, 20, 59]\n",
      "[35, 18, 73, 36, 76, 19, 93, 43, 43, 71, 71, 28, 40, 63, 2, 49, 33, 54, 61, 72]\n",
      "[50, 0, 85, 99, 37, 82, 14, 66, 70, 77, 48, 94, 19, 94, 90, 5, 15, 51, 99, 56]\n"
     ]
    }
   ],
   "source": [
    "import random\n",
    "\n",
    "i = 0\n",
    "List1 = []\n",
    "List2 = []\n",
    "List3 = []\n",
    "for i in range (0,20):\n",
    "    List1.append(random.randint(0,100))\n",
    "    List2.append(random.randint(0,100))\n",
    "    List3.append(random.randint(0,100))\n",
    "\n",
    "print(List1)\n",
    "print(List2)\n",
    "print(List3)"
   ]
  },
  {
   "cell_type": "code",
   "execution_count": 62,
   "metadata": {},
   "outputs": [
    {
     "name": "stdout",
     "output_type": "stream",
     "text": [
      "[2, 3, 7, 7, 10, 15, 34, 41, 47, 47, 57, 66, 66, 66, 80, 84, 86, 87, 89, 89]\n"
     ]
    }
   ],
   "source": [
    "def SelectionSort(List):\n",
    "    sorted = True\n",
    "    i = 0\n",
    "    j = 1\n",
    "    smallestNumberIndex = 0\n",
    "    for i in range (0,len(List)):\n",
    "        smallestNumberIndex = i\n",
    "        for j in range(i+1,len(List)):\n",
    "            if(List[j] < List[smallestNumberIndex]):\n",
    "                smallestNumberIndex = j\n",
    "        if i != smallestNumberIndex:\n",
    "            temp = List[i]\n",
    "            List[i] = List[smallestNumberIndex]\n",
    "            List[smallestNumberIndex] = temp\n",
    "            sorted = False \n",
    "    return List\n",
    "\n",
    "print(SelectionSort(List1))\n",
    "        \n",
    "\n",
    "\n",
    "\n",
    "\n",
    "        "
   ]
  },
  {
   "cell_type": "code",
   "execution_count": 75,
   "metadata": {},
   "outputs": [
    {
     "data": {
      "text/plain": [
       "[4, 5, 18, 22, 32, 38, 38, 47, 58, 63, 65, 67, 69, 72, 73, 81, 81, 89, 95, 99]"
      ]
     },
     "execution_count": 75,
     "metadata": {},
     "output_type": "execute_result"
    }
   ],
   "source": [
    "def InsertionSort(List):\n",
    "    output = []\n",
    "    while len(List) > 0:\n",
    "        smallestNumberIndex = 0\n",
    "        for i in range (0,len(List)):\n",
    "            if List[i] < List[smallestNumberIndex]:\n",
    "                smallestNumberIndex = i\n",
    "        smallestNumber = List.pop(smallestNumberIndex)\n",
    "        output.append(smallestNumber)\n",
    "\n",
    "    return output\n",
    "\n",
    "InsertionSort(List2)"
   ]
  }
 ],
 "metadata": {
  "kernelspec": {
   "display_name": "Python 3",
   "language": "python",
   "name": "python3"
  },
  "language_info": {
   "codemirror_mode": {
    "name": "ipython",
    "version": 3
   },
   "file_extension": ".py",
   "mimetype": "text/x-python",
   "name": "python",
   "nbconvert_exporter": "python",
   "pygments_lexer": "ipython3",
   "version": "3.12.2"
  }
 },
 "nbformat": 4,
 "nbformat_minor": 2
}
