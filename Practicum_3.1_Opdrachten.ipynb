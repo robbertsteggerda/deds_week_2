{
 "cells": [
  {
   "cell_type": "code",
   "execution_count": 179,
   "metadata": {},
   "outputs": [
    {
     "name": "stdout",
     "output_type": "stream",
     "text": [
      "[37, 39, 12, 6, 60, 65, 98, 41, 15, 51, 33, 19, 64, 75, 4, 60, 60, 57, 35, 11]\n",
      "[96, 2, 41, 14, 21, 5, 10, 72, 24, 13, 44, 1, 95, 5, 78, 73, 31, 68, 47, 13]\n",
      "[93, 13, 98, 94, 60, 31, 35, 25, 96, 54, 29, 80, 13, 50, 45, 41, 43, 16, 78, 9]\n"
     ]
    }
   ],
   "source": [
    "import random\n",
    "\n",
    "i = 0\n",
    "List1 = []\n",
    "List2 = []\n",
    "List3 = []\n",
    "for i in range (0,20):\n",
    "    List1.append(random.randint(0,100))\n",
    "    List2.append(random.randint(0,100))\n",
    "    List3.append(random.randint(0,100))\n",
    "\n",
    "print(List1)\n",
    "print(List2)\n",
    "print(List3)"
   ]
  },
  {
   "cell_type": "code",
   "execution_count": 151,
   "metadata": {},
   "outputs": [
    {
     "name": "stdout",
     "output_type": "stream",
     "text": [
      "[3, 10, 12, 13, 19, 32, 45, 46, 47, 49, 65, 65, 73, 74, 81, 90, 90, 91, 96, 100]\n"
     ]
    }
   ],
   "source": [
    "def SelectionSort(List):\n",
    "    i = 0\n",
    "    j = 1\n",
    "    smallestNumberIndex = 0\n",
    "    for i in range (0,len(List)):\n",
    "        smallestNumberIndex = i\n",
    "        for j in range(i+1,len(List)): #voor elke index: check voor elk nummer erna of deze kleiner is\n",
    "            if(List[j] < List[smallestNumberIndex]):\n",
    "                smallestNumberIndex = j\n",
    "        if i != smallestNumberIndex: #als i niet hetzelfde is als het kleinste nummer: wissel i en het kleinste nummer om\n",
    "            temp = List[i]\n",
    "            List[i] = List[smallestNumberIndex]\n",
    "            List[smallestNumberIndex] = temp\n",
    "    return List\n",
    "\n",
    "print(SelectionSort(List1))\n",
    "        \n",
    "\n",
    "\n",
    "\n",
    "\n",
    "        "
   ]
  },
  {
   "cell_type": "code",
   "execution_count": 154,
   "metadata": {},
   "outputs": [
    {
     "data": {
      "text/plain": [
       "[]"
      ]
     },
     "execution_count": 154,
     "metadata": {},
     "output_type": "execute_result"
    }
   ],
   "source": [
    "def InsertionSort(List):\n",
    "    output = []\n",
    "    while len(List) > 0:\n",
    "        smallestNumberIndex = 0\n",
    "        for i in range (0,len(List)): #vind het kleinste nummer, verwijder dit uit de lijst en zet het achteraan in de outputlijst\n",
    "            if List[i] < List[smallestNumberIndex]:\n",
    "                smallestNumberIndex = i\n",
    "        smallestNumber = List.pop(smallestNumberIndex)\n",
    "        output.append(smallestNumber)\n",
    "\n",
    "    return output\n",
    "\n",
    "InsertionSort(List2)\n"
   ]
  },
  {
   "cell_type": "code",
   "execution_count": 181,
   "metadata": {},
   "outputs": [
    {
     "name": "stdout",
     "output_type": "stream",
     "text": [
      "[9, 13, 13, 16, 25, 29, 31, 35, 41, 43, 45, 50, 54, 60, 78, 80, 93, 94, 96, 98]\n"
     ]
    }
   ],
   "source": [
    "def BubbleSort(List):\n",
    "    i = 0\n",
    "    temp = None\n",
    "    for i in range (0,len(List)-1): #check of het nummer op index i groter is dan het volgende nummer; zoja wissel ze om\n",
    "        if List[i] > List[i+1]:\n",
    "            temp = List[i+1]\n",
    "            List[i+1] = List[i]\n",
    "            List[i] = temp\n",
    "\n",
    "    if temp is not None: #als temp none is is de if statement om te sorteren nooit aangeroepen -> lijst is gesorteerd\n",
    "        BubbleSort(List) #gebruik recursie\n",
    "    return List\n",
    "\n",
    "print(BubbleSort(List3))"
   ]
  }
 ],
 "metadata": {
  "kernelspec": {
   "display_name": "Python 3",
   "language": "python",
   "name": "python3"
  },
  "language_info": {
   "codemirror_mode": {
    "name": "ipython",
    "version": 3
   },
   "file_extension": ".py",
   "mimetype": "text/x-python",
   "name": "python",
   "nbconvert_exporter": "python",
   "pygments_lexer": "ipython3",
   "version": "3.12.2"
  }
 },
 "nbformat": 4,
 "nbformat_minor": 2
}
