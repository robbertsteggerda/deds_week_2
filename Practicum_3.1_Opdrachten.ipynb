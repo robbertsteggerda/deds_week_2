{
 "cells": [
  {
   "cell_type": "code",
   "execution_count": 183,
   "metadata": {},
   "outputs": [
    {
     "name": "stdout",
     "output_type": "stream",
     "text": [
      "[42, 52, 43, 46, 69, 75, 13, 77, 99, 34, 71, 78, 18, 85, 83, 78, 77, 31, 65, 15]\n",
      "[91, 70, 85, 92, 28, 80, 42, 62, 6, 54, 88, 76, 15, 29, 42, 31, 82, 58, 36, 45]\n",
      "[36, 47, 22, 68, 89, 46, 95, 100, 77, 36, 2, 90, 44, 62, 97, 3, 39, 10, 53, 41]\n"
     ]
    }
   ],
   "source": [
    "import random\n",
    "\n",
    "List1 = []\n",
    "List2 = []\n",
    "List3 = []\n",
    "for i in range (0,20):\n",
    "    List1.append(random.randint(0,100))\n",
    "    List2.append(random.randint(0,100))\n",
    "    List3.append(random.randint(0,100))\n",
    "\n",
    "print(List1)\n",
    "print(List2)\n",
    "print(List3)"
   ]
  },
  {
   "cell_type": "code",
   "execution_count": 184,
   "metadata": {},
   "outputs": [
    {
     "name": "stdout",
     "output_type": "stream",
     "text": [
      "[13, 15, 18, 31, 34, 42, 43, 46, 52, 65, 69, 71, 75, 77, 77, 78, 78, 83, 85, 99]\n"
     ]
    }
   ],
   "source": [
    "def SelectionSort(List):\n",
    "    smallestNumberIndex = 0\n",
    "    for i in range (0,len(List)):\n",
    "        smallestNumberIndex = i\n",
    "        for j in range(i+1,len(List)): #voor elke index: check voor elk nummer erna of deze kleiner is\n",
    "            if(List[j] < List[smallestNumberIndex]):\n",
    "                smallestNumberIndex = j\n",
    "        if i != smallestNumberIndex: #als i niet hetzelfde is als het kleinste nummer: wissel i en het kleinste nummer om\n",
    "            temp = List[i]\n",
    "            List[i] = List[smallestNumberIndex]\n",
    "            List[smallestNumberIndex] = temp\n",
    "    return List\n",
    "\n",
    "print(SelectionSort(List1))\n",
    "        \n",
    "\n",
    "\n",
    "\n",
    "\n",
    "        "
   ]
  },
  {
   "cell_type": "code",
   "execution_count": 185,
   "metadata": {},
   "outputs": [
    {
     "data": {
      "text/plain": [
       "[6, 15, 28, 29, 31, 36, 42, 42, 45, 54, 58, 62, 70, 76, 80, 82, 85, 88, 91, 92]"
      ]
     },
     "execution_count": 185,
     "metadata": {},
     "output_type": "execute_result"
    }
   ],
   "source": [
    "def InsertionSort(List):\n",
    "    output = []\n",
    "    while len(List) > 0:\n",
    "        smallestNumberIndex = 0\n",
    "        for i in range (0,len(List)): #vind het kleinste nummer, verwijder dit uit de lijst en zet het achteraan in de outputlijst\n",
    "            if List[i] < List[smallestNumberIndex]:\n",
    "                smallestNumberIndex = i\n",
    "        smallestNumber = List.pop(smallestNumberIndex)\n",
    "        output.append(smallestNumber)\n",
    "\n",
    "    return output\n",
    "\n",
    "InsertionSort(List2)\n"
   ]
  },
  {
   "cell_type": "code",
   "execution_count": 186,
   "metadata": {},
   "outputs": [
    {
     "name": "stdout",
     "output_type": "stream",
     "text": [
      "[2, 3, 10, 22, 36, 36, 39, 41, 44, 46, 47, 53, 62, 68, 77, 89, 90, 95, 97, 100]\n"
     ]
    }
   ],
   "source": [
    "def BubbleSort(List):\n",
    "    temp = None\n",
    "    for i in range (0,len(List)-1): #check of het nummer op index i groter is dan het volgende nummer; zoja wissel ze om\n",
    "        if List[i] > List[i+1]:\n",
    "            temp = List[i+1]\n",
    "            List[i+1] = List[i]\n",
    "            List[i] = temp\n",
    "\n",
    "    if temp is not None: #als temp none is is de if statement om te sorteren nooit aangeroepen -> lijst is gesorteerd\n",
    "        BubbleSort(List) #gebruik recursie\n",
    "    return List\n",
    "\n",
    "print(BubbleSort(List3))"
   ]
  }
 ],
 "metadata": {
  "kernelspec": {
   "display_name": "Python 3",
   "language": "python",
   "name": "python3"
  },
  "language_info": {
   "codemirror_mode": {
    "name": "ipython",
    "version": 3
   },
   "file_extension": ".py",
   "mimetype": "text/x-python",
   "name": "python",
   "nbconvert_exporter": "python",
   "pygments_lexer": "ipython3",
   "version": "3.12.2"
  }
 },
 "nbformat": 4,
 "nbformat_minor": 2
}
