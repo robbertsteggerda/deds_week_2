{
 "cells": [
  {
   "cell_type": "code",
   "execution_count": 1,
   "metadata": {},
   "outputs": [],
   "source": [
    "import warnings\n",
    "warnings.simplefilter('ignore')\n",
    "import pandas as pd\n",
    "import numpy as np\n",
    "import sqlite3"
   ]
  },
  {
   "cell_type": "code",
   "execution_count": 3,
   "metadata": {},
   "outputs": [],
   "source": [
    "db = sqlite3.connect(\"Databases/GreatOutdoors/go_sales.sqlite\")\n",
    "sales_data_forecast_db = sqlite3.connect(\"Databases/GreatOutdoors/GO_SALES_PRODUCT_FORECASTData.csv\")\n",
    "sales_inventory_levels_db = sqlite3.connect(\"Databases/GreatOutdoors/GO_SALES_INVENTORY_LEVELSData.csv\")\n"
   ]
  },
  {
   "cell_type": "code",
   "execution_count": 4,
   "metadata": {},
   "outputs": [],
   "source": [
    "product = pd.read_sql_query(\"SELECT * FROM product;\", db)\n",
    "sales_branch = pd.read_sql_query(\"SELECT * FROM sales_branch;\", db)\n",
    "product_type = pd.read_sql_query(\"SELECT * FROM product_type;\", db)\n",
    "returns = pd.read_sql_query(\"SELECT * FROM returned_item;\", db)\n",
    "order_details = pd.read_sql_query(\"SELECT * FROM order_details;\", db)\n",
    "sales_staff = pd.read_sql_query(\"SELECT * FROM sales_staff;\", db)\n",
    "order_header = pd.read_sql_query(\"SELECT * FROM order_header;\", db)\n",
    "returned_item  = pd.read_sql_query(\"SELECT * FROM returned_item;\", db)\n",
    "return_reason  = pd.read_sql_query(\"SELECT * FROM return_reason;\", db)\n",
    "order_method = pd.read_sql_query(\"SELECT * FROM order_method;\", db)"
   ]
  },
  {
   "cell_type": "code",
   "execution_count": 6,
   "metadata": {},
   "outputs": [],
   "source": [
    "\n",
    "merged_df = pd.merge(order_header, order_details, on='ORDER_NUMBER', how='inner')\n",
    "order = pd.merge(merged_df, returned_item, on='ORDER_DETAIL_CODE', how = 'inner')\n",
    "\n",
    "##order_header, order_details, returned_item"
   ]
  },
  {
   "cell_type": "code",
   "execution_count": null,
   "metadata": {},
   "outputs": [],
   "source": [
    "sales_data_forecast = pd.read_csv(\"Databases/GreatOutdoors/GO_SALES_PRODUCT_FORECASTData.csv\")\n",
    "sales_inventory_levels = pd.read_csv(\"Databases/GreatOutdoors/GO_SALES_INVENTORY_LEVELSData.csv\")\n",
    "\n",
    "sales_data_merged = pd.merge(sales_data_forecast, sales_inventory_levels, \n",
    "                     on='PRODUCT_NUMBER', \n",
    "                     how='inner')\n",
    "\n",
    "sales_data_merged = sales_data_merged.rename(columns={'YEAR': 'FORECAST_YEAR', 'MONTH': 'FORECAST_MONTH'})\n",
    "\n",
    "sales_data_merged\n"
   ]
  },
  {
   "cell_type": "code",
   "execution_count": 11,
   "metadata": {},
   "outputs": [
    {
     "ename": "OperationalError",
     "evalue": "('08001', '[08001] [Microsoft][ODBC SQL Server Driver][DBNETLIB]SQL Server does not exist or access denied. (17) (SQLDriverConnect); [08001] [Microsoft][ODBC SQL Server Driver][DBNETLIB]ConnectionOpen (Connect()). (53)')",
     "output_type": "error",
     "traceback": [
      "\u001b[1;31m---------------------------------------------------------------------------\u001b[0m",
      "\u001b[1;31mOperationalError\u001b[0m                          Traceback (most recent call last)",
      "Cell \u001b[1;32mIn[11], line 7\u001b[0m\n\u001b[0;32m      2\u001b[0m \u001b[38;5;28;01mimport\u001b[39;00m \u001b[38;5;21;01mpyodbc\u001b[39;00m\n\u001b[0;32m      4\u001b[0m DB \u001b[38;5;241m=\u001b[39m {\u001b[38;5;124m'\u001b[39m\u001b[38;5;124mservername\u001b[39m\u001b[38;5;124m'\u001b[39m: \u001b[38;5;124m'\u001b[39m\u001b[38;5;124mRobbertslaptop\u001b[39m\u001b[38;5;130;01m\\r\u001b[39;00m\u001b[38;5;124mobbi\u001b[39m\u001b[38;5;124m'\u001b[39m,\n\u001b[0;32m      5\u001b[0m       \u001b[38;5;124m'\u001b[39m\u001b[38;5;124mdatabase\u001b[39m\u001b[38;5;124m'\u001b[39m: \u001b[38;5;124m'\u001b[39m\u001b[38;5;124mgreatoutdoors\u001b[39m\u001b[38;5;124m'\u001b[39m}\n\u001b[1;32m----> 7\u001b[0m export_conn \u001b[38;5;241m=\u001b[39m \u001b[43mpyodbc\u001b[49m\u001b[38;5;241;43m.\u001b[39;49m\u001b[43mconnect\u001b[49m\u001b[43m(\u001b[49m\u001b[38;5;124;43m'\u001b[39;49m\u001b[38;5;124;43mDRIVER=\u001b[39;49m\u001b[38;5;124;43m{\u001b[39;49m\u001b[38;5;124;43mSQL SERVER};SERVER=\u001b[39;49m\u001b[38;5;124;43m'\u001b[39;49m\u001b[43m \u001b[49m\u001b[38;5;241;43m+\u001b[39;49m\u001b[43m \u001b[49m\u001b[43mDB\u001b[49m\u001b[43m[\u001b[49m\u001b[38;5;124;43m'\u001b[39;49m\u001b[38;5;124;43mservername\u001b[39;49m\u001b[38;5;124;43m'\u001b[39;49m\u001b[43m]\u001b[49m\u001b[43m \u001b[49m\u001b[38;5;241;43m+\u001b[39;49m\u001b[43m \u001b[49m\n\u001b[0;32m      8\u001b[0m \u001b[43m                             \u001b[49m\u001b[38;5;124;43m'\u001b[39;49m\u001b[38;5;124;43m;DATABASE=\u001b[39;49m\u001b[38;5;124;43m'\u001b[39;49m\u001b[43m \u001b[49m\u001b[38;5;241;43m+\u001b[39;49m\u001b[43m \u001b[49m\u001b[43mDB\u001b[49m\u001b[43m[\u001b[49m\u001b[38;5;124;43m'\u001b[39;49m\u001b[38;5;124;43mdatabase\u001b[39;49m\u001b[38;5;124;43m'\u001b[39;49m\u001b[43m]\u001b[49m\u001b[43m \u001b[49m\u001b[38;5;241;43m+\u001b[39;49m\u001b[43m \u001b[49m\u001b[38;5;124;43m'\u001b[39;49m\u001b[38;5;124;43m;Trusted_Connection=yes\u001b[39;49m\u001b[38;5;124;43m'\u001b[39;49m\u001b[43m)\u001b[49m\n\u001b[0;32m     10\u001b[0m export_cursor \u001b[38;5;241m=\u001b[39m export_conn\u001b[38;5;241m.\u001b[39mcursor()\n\u001b[0;32m     12\u001b[0m export_cursor\n",
      "\u001b[1;31mOperationalError\u001b[0m: ('08001', '[08001] [Microsoft][ODBC SQL Server Driver][DBNETLIB]SQL Server does not exist or access denied. (17) (SQLDriverConnect); [08001] [Microsoft][ODBC SQL Server Driver][DBNETLIB]ConnectionOpen (Connect()). (53)')"
     ]
    }
   ],
   "source": [
    "import pandas as pd\n",
    "import pyodbc\n",
    "\n",
    "DB = {'servername': 'Robbertslaptop\\robbi',\n",
    "      'database': 'greatoutdoors'}\n",
    "\n",
    "export_conn = pyodbc.connect('DRIVER={SQL SERVER};SERVER=' + DB['servername'] + \n",
    "                             ';DATABASE=' + DB['database'] + ';Trusted_Connection=yes')\n",
    "\n",
    "export_cursor = export_conn.cursor()\n",
    "\n",
    "export_cursor\n"
   ]
  }
 ],
 "metadata": {
  "kernelspec": {
   "display_name": "Python 3",
   "language": "python",
   "name": "python3"
  },
  "language_info": {
   "codemirror_mode": {
    "name": "ipython",
    "version": 3
   },
   "file_extension": ".py",
   "mimetype": "text/x-python",
   "name": "python",
   "nbconvert_exporter": "python",
   "pygments_lexer": "ipython3",
   "version": "3.12.2"
  }
 },
 "nbformat": 4,
 "nbformat_minor": 2
}
