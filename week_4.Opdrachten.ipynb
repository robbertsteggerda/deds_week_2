{
 "cells": [
  {
   "cell_type": "code",
   "execution_count": 2,
   "metadata": {},
   "outputs": [],
   "source": [
    "import warnings\n",
    "warnings.simplefilter('ignore')\n",
    "import pandas as pd\n",
    "import numpy as np\n",
    "import sqlite3"
   ]
  },
  {
   "cell_type": "code",
   "execution_count": 2,
   "metadata": {},
   "outputs": [],
   "source": [
    "db = sqlite3.connect(\"Databases/GreatOutdoors/go_sales.sqlite\")\n",
    "sales_data_forecast_db = sqlite3.connect(\"Databases/GreatOutdoors/GO_SALES_PRODUCT_FORECASTData.csv\")\n",
    "sales_inventory_levels_db = sqlite3.connect(\"Databases/GreatOutdoors/GO_SALES_INVENTORY_LEVELSData.csv\")\n"
   ]
  },
  {
   "cell_type": "code",
   "execution_count": 3,
   "metadata": {},
   "outputs": [],
   "source": [
    "product = pd.read_sql_query(\"SELECT * FROM product;\", db)\n",
    "sales_branch = pd.read_sql_query(\"SELECT * FROM sales_branch;\", db)\n",
    "product_type = pd.read_sql_query(\"SELECT * FROM product_type;\", db)\n",
    "returns = pd.read_sql_query(\"SELECT * FROM returned_item;\", db)\n",
    "order_details = pd.read_sql_query(\"SELECT * FROM order_details;\", db)\n",
    "sales_staff = pd.read_sql_query(\"SELECT * FROM sales_staff;\", db)\n",
    "order_header = pd.read_sql_query(\"SELECT * FROM order_header;\", db)\n",
    "returned_item  = pd.read_sql_query(\"SELECT * FROM returned_item;\", db)\n",
    "return_reason  = pd.read_sql_query(\"SELECT * FROM return_reason;\", db)\n",
    "order_method = pd.read_sql_query(\"SELECT * FROM order_method;\", db)"
   ]
  },
  {
   "cell_type": "code",
   "execution_count": 4,
   "metadata": {},
   "outputs": [],
   "source": [
    "\n",
    "merged_df = pd.merge(order_header, order_details, on='ORDER_NUMBER', how='inner')\n",
    "order = pd.merge(merged_df, returned_item, on='ORDER_DETAIL_CODE', how = 'inner')\n",
    "\n",
    "##order_header, order_details, returned_item"
   ]
  },
  {
   "cell_type": "code",
   "execution_count": null,
   "metadata": {},
   "outputs": [],
   "source": [
    "sales_data_forecast = pd.read_csv(\"Databases/GreatOutdoors/GO_SALES_PRODUCT_FORECASTData.csv\")\n",
    "sales_inventory_levels = pd.read_csv(\"Databases/GreatOutdoors/GO_SALES_INVENTORY_LEVELSData.csv\")\n",
    "\n",
    "sales_data_merged = pd.merge(sales_data_forecast, sales_inventory_levels, \n",
    "                     on='PRODUCT_NUMBER', \n",
    "                     how='inner')\n",
    "\n",
    "sales_data_merged = sales_data_merged.rename(columns={'YEAR': 'FORECAST_YEAR', 'MONTH': 'FORECAST_MONTH'})\n",
    "\n",
    "sales_data_merged\n"
   ]
  },
  {
   "cell_type": "code",
   "execution_count": null,
   "metadata": {},
   "outputs": [],
   "source": [
    "import pandas as pd\n",
    "import pyodbc\n",
    "\n",
    "DB = {'servername': 'localhost\\SQLEXPRESS',\n",
    "      'database': 'greatoutdoors'}\n",
    "\n",
    "export_conn = pyodbc.connect('DRIVER={SQL SERVER};SERVER=' + DB['servername'] + \n",
    "                             ';DATABASE=' + DB['database'] + ';Trusted_Connection=yes')\n",
    "\n",
    "export_cursor = export_conn.cursor()\n",
    "\n",
    "# Execute a SQL query to select data from a specific table\n",
    "export_cursor.execute(\"SELECT * FROM dbo.training\")\n",
    "\n",
    "# Fetch all rows from the result set\n",
    "rows = export_cursor.fetchall()\n",
    "\n",
    "# Iterate over the rows and print each row\n",
    "for row in rows:\n",
    "    print(row)\n",
    "\n",
    "# Close the cursor and connection\n",
    "export_cursor.close()\n",
    "export_conn.close()\n",
    "\n"
   ]
  },
  {
   "cell_type": "code",
   "execution_count": 5,
   "metadata": {},
   "outputs": [
    {
     "name": "stdout",
     "output_type": "stream",
     "text": [
      "CREATE TABLE Retailer (RETAILER_CODE INT, RETAILER_CODEMR FLOAT, RETAILER_company_name TEXT, RETAILER_TYPE_CODE INT, RETAILER_TYPE_name TEXT, RETAILER_NAME TEXT, ADDRESS1 TEXT, ADDRESS2 TEXT, CITY TEXT, REGION TEXT, COUNTRY_CODE FLOAT, SEGMENT_CODE FLOAT, LANGUAGE TEXT, SEGMENT_NAME TEXT, SEGMENT_DESCRIPTION TEXT);\n"
     ]
    }
   ],
   "source": [
    "dataframe = pd.read_csv(\"retailer.csv\")\n",
    "\n",
    "def generate_create_table_query(df, table_name):\n",
    "    columns = []\n",
    "    for column in df.columns:\n",
    "        dtype = df[column].dtype\n",
    "        if dtype == 'int64':\n",
    "            sql_type = 'INT'\n",
    "        elif dtype == 'float64':\n",
    "            sql_type = 'FLOAT'\n",
    "        else:\n",
    "            sql_type = 'TEXT'\n",
    "        columns.append(f\"{column} {sql_type}\")\n",
    "    columns_str = ', '.join(columns)\n",
    "    query = f\"CREATE TABLE {table_name} ({columns_str});\"\n",
    "    return query\n",
    "\n",
    "print(generate_create_table_query(dataframe,\"Retailer\"))"
   ]
  }
 ],
 "metadata": {
  "kernelspec": {
   "display_name": "Python 3",
   "language": "python",
   "name": "python3"
  },
  "language_info": {
   "codemirror_mode": {
    "name": "ipython",
    "version": 3
   },
   "file_extension": ".py",
   "mimetype": "text/x-python",
   "name": "python",
   "nbconvert_exporter": "python",
   "pygments_lexer": "ipython3",
   "version": "3.12.2"
  }
 },
 "nbformat": 4,
 "nbformat_minor": 2
}
