{
 "cells": [
  {
   "cell_type": "code",
   "execution_count": 3,
   "metadata": {},
   "outputs": [
    {
     "name": "stderr",
     "output_type": "stream",
     "text": [
      "C:\\Users\\daisy\\AppData\\Local\\Temp\\ipykernel_11828\\2698988305.py:1: DeprecationWarning: \n",
      "Pyarrow will become a required dependency of pandas in the next major release of pandas (pandas 3.0),\n",
      "(to allow more performant data types, such as the Arrow string type, and better interoperability with other libraries)\n",
      "but was not found to be installed on your system.\n",
      "If this would cause problems for you,\n",
      "please provide us feedback at https://github.com/pandas-dev/pandas/issues/54466\n",
      "        \n",
      "  import pandas as pd\n"
     ]
    }
   ],
   "source": [
    "import pandas as pd\n",
    "import pyodbc\n",
    "import sqlite3"
   ]
  },
  {
   "cell_type": "code",
   "execution_count": null,
   "metadata": {},
   "outputs": [],
   "source": [
    "DB = {\"servername\": \"DESKTOP-OF0CT86\\SQLEXPRESS\",\n",
    "      \"database\": \"greatoutdoors\"}\n",
    "\n",
    "export_conn = pyodbc.connect('DRIVER={SQL Server};SERVER=' + DB['servername'] + \n",
    "                             ';DATABASE=' + DB['database'] + ';Trusted_Connection=yes')\n",
    "\n",
    "export_cursor = export_conn.cursor()\n",
    "\n",
    "\n",
    "# Load utilities\n",
    "\n",
    "\n",
    "# Load tables\n",
    "\n",
    "sales_db = sqlite3.connect(\"Databases/GreatOutdoors/go_sales.sqlite\")\n",
    "product = pd.read_sql_query(\"SELECT * FROM product;\", sales_db)\n",
    "country = pd.read_sql_query(\"SELECT * FROM country;\", sales_db)\n",
    "product_line = pd.read_sql_query(\"SELECT * FROM product_line;\", sales_db)\n",
    "\n",
    "sales_branch = pd.read_sql_query(\"SELECT * FROM sales_branch;\", sales_db)\n",
    "retailer_site = pd.read_sql_query(\"SELECT * FROM retailer_site;\", sales_db)\n",
    "product_type = pd.read_sql_query(\"SELECT * FROM product_type;\", sales_db)\n",
    "returns = pd.read_sql_query(\"SELECT * FROM returned_item;\", sales_db)\n",
    "order_details = pd.read_sql_query(\"SELECT * FROM order_details;\", sales_db)\n",
    "sales_staff = pd.read_sql_query(\"SELECT * FROM sales_staff;\", sales_db)\n",
    "order_header = pd.read_sql_query(\"SELECT * FROM order_header;\", sales_db)\n",
    "returned_item  = pd.read_sql_query(\"SELECT * FROM returned_item;\", sales_db)\n",
    "return_reason  = pd.read_sql_query(\"SELECT * FROM return_reason;\", sales_db)\n",
    "target = pd.read_sql_query(\"SELECT * FROM SALES_TARGETData;\", sales_db)\n",
    "order_method = pd.read_sql_query(\"SELECT * FROM order_method;\", sales_db)\n",
    "\n",
    "\n",
    "\n",
    "for row in export_cursor.tables():\n",
    "    print(row.table_name)\n"
   ]
  },
  {
   "cell_type": "code",
   "execution_count": null,
   "metadata": {},
   "outputs": [],
   "source": [
    "# Product\n",
    "transformed_product = []\n",
    "\n",
    "transformed_product = product.merge(product_type, 'inner', 'PRODUCT_TYPE_CODE').merge(product_line, 'inner', 'PRODUCT_LINE_CODE').rename(columns={\n",
    "    \"INTRODUCTION_DATE\": \"INTRODUCTION_DATE_date\",\n",
    "    \"PRODUCT_TYPE_CODE\": \"PRODUCT_TYPE_CODE\",\n",
    "    \"PRODUCTION_COST\": \"PRODUCTION_COST_number\",\n",
    "    \"MARGIN\": \"MARGIN_NUMBER\",\n",
    "    \"PRODUCT_IMAGE\": \"PRODUCT_IMAGE_image\",\n",
    "    \"LANGUAGE\": \"LANGUAGE_language\",\n",
    "    \"PRODUCT_TYPE_EN\": \"PRODUCT_TYPE_name\",\n",
    "    \"DESCRIPTION\": \"DESCRIPTION_description\",\n",
    "}).drop(columns=\"TRIAL888_x\", axis=1).drop(columns=\"TRIAL888_y\", axis=1).drop(columns=\"TRIAL888\", axis=1)\n",
    "\n",
    "\n",
    "for index, row in transformed_product.iterrows():\n",
    "    try:\n",
    "        query = f\"INSERT INTO Product VALUES ({row['PRODUCT_NUMBER']},  '{row['PRODUCT_NAME']}', '{ convert_date_format(row['INTRODUCTION_DATE_date']) }', {row['PRODUCT_TYPE_CODE']}, '{row['PRODUCT_TYPE_name']}', {row['PRODUCT_LINE_CODE']}, '{row['PRODUCT_LINE_EN']}', {row['PRODUCTION_COST_number']}, {row['MARGIN_NUMBER']},'{row['PRODUCT_IMAGE_image']}', '{row['LANGUAGE_language']}', '{escape_single_quotes(row['DESCRIPTION_description'])}');\"\n",
    "        export_cursor.execute(query)\n",
    "        print(query)\n",
    "    except pyodbc.Error as e:\n",
    "        print(query)\n",
    "        # print(e)\n",
    "\n",
    "    export_cursor.commit()\n"
   ]
  },
  {
   "cell_type": "code",
   "execution_count": null,
   "metadata": {},
   "outputs": [],
   "source": [
    "# Order\n",
    "\n",
    "\n",
    "merged_df = pd.merge(order_header, order_details, on='ORDER_NUMBER', how='inner')\n",
    "order = pd.merge(merged_df, returned_item, on='ORDER_DETAIL_CODE', how = 'inner')\n",
    "\n",
    "for index, row in order.iterrows():\n",
    "    try:\n",
    "        query = f\"INSERT INTO 'orders' VALUES ({row['ORDER_NUMBER']},  '{escape_single_quotes(row['RETAILER_NAME'])}', '{row['ORDER_DATE']}', 1, 1, 2024, {row['ORDER_DETAIL_CODE']}, {row['PRODUCT_NUMBER']}, {row['QUANTITY']}, {row['UNIT_COST']}, {row['UNIT_PRICE']}, {row['UNIT_SALE_PRICE']}, {row['RETURN_CODE']}, '{convert_date_format(strip_time_from_string(row['RETURN_DATE']))}', {row['RETURN_REASON_CODE']}, {row['RETURN_QUANTITY']}, {row['ORDER_METHOD_CODE']}, {row['SALES_STAFF_CODE']}, {row['SALES_BRANCH_CODE']}, {row['RETAILER_SITE_CODE']});\"\n",
    "        print(query)\n",
    "    except pyodbc.Error as e:\n",
    "        print(query)\n",
    "        print(e)\n",
    "        \n",
    "order"
   ]
  },
  {
   "cell_type": "code",
   "execution_count": null,
   "metadata": {},
   "outputs": [],
   "source": [
    "# Sales Forecast & Inventory\n",
    "\n",
    "sales_data_forecast = pd.read_csv(\"Databases/GreatOutdoors/GO_SALES_PRODUCT_FORECASTData.csv\")\n",
    "sales_inventory_levels = pd.read_csv(\"Databases/GreatOutdoors/GO_SALES_INVENTORY_LEVELSData.csv\")\n",
    "\n",
    "sales_data_merged = pd.merge(sales_data_forecast, sales_inventory_levels, \n",
    "                     left_on=['PRODUCT_NUMBER','YEAR','MONTH'],\n",
    "                     right_on=['PRODUCT_NUMBER','INVENTORY_YEAR','INVENTORY_MONTH'],\n",
    "                     how='inner')\n",
    "\n",
    "\n",
    "\n",
    "sales_data_merged = sales_data_merged.rename(columns={'YEAR': 'FORECAST_YEAR', 'MONTH': 'FORECAST_MONTH'})\n",
    "\n",
    "\n",
    "\n",
    "for index, row in sales_data_merged.iterrows():\n",
    "    try:\n",
    "        query = f\"INSERT INTO 'SALESDATA' VALUES ({row['PRODUCT_NUMBER']}, {row['FORECAST_MONTH']}, {row['FORECAST_YEAR']}, {row['INVENTORY_MONTH']}, {row['INVENTORY_YEAR']}, {row['INVENTORY_COUNT']});\"\n",
    "        print(query)\n",
    "    except pyodbc.Error as e:\n",
    "        print(query)\n",
    "        print(e)\n",
    "\n",
    "\n",
    "# len(sales_data_merged)\n",
    "\n",
    "\n"
   ]
  },
  {
   "cell_type": "code",
   "execution_count": 6,
   "metadata": {},
   "outputs": [
    {
     "name": "stdout",
     "output_type": "stream",
     "text": [
      "INSERT INTO order_method VALUES (1, 'Fax');\n",
      "INSERT INTO order_method VALUES (2, 'Telephone');\n",
      "INSERT INTO order_method VALUES (3, 'Mail');\n",
      "INSERT INTO order_method VALUES (4, 'E-mail');\n",
      "INSERT INTO order_method VALUES (5, 'Web');\n",
      "INSERT INTO order_method VALUES (7, 'Sales visit');\n",
      "INSERT INTO order_method VALUES (8, 'Special');\n"
     ]
    }
   ],
   "source": [
    "# Order Method\n",
    "\n",
    "for index, row in order_method.iterrows():\n",
    "    try:\n",
    "        query = f\"INSERT INTO order_method VALUES ({row['ORDER_METHOD_CODE']}, '{row['ORDER_METHOD_EN']}');\"\n",
    "        print(query)\n",
    "    except pyodbc.Error as e:\n",
    "        print(query)\n",
    "        print(e)"
   ]
  }
 ],
 "metadata": {
  "kernelspec": {
   "display_name": "Python 3",
   "language": "python",
   "name": "python3"
  },
  "language_info": {
   "codemirror_mode": {
    "name": "ipython",
    "version": 3
   },
   "file_extension": ".py",
   "mimetype": "text/x-python",
   "name": "python",
   "nbconvert_exporter": "python",
   "pygments_lexer": "ipython3",
   "version": "undefined.undefined.undefined"
  }
 },
 "nbformat": 4,
 "nbformat_minor": 2
}
