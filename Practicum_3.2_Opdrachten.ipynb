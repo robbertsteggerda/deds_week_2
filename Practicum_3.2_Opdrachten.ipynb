{
 "cells": [
  {
   "cell_type": "markdown",
   "metadata": {},
   "source": [
    "algoritme 1: find_max\n",
    "\n",
    "dit algoritme vindt het grootste cijfer in een List met lengte n\n",
    "\n",
    "de big Oh van dit algoritme is 𝒪(n) omdat er één for loop is met een instructie erin"
   ]
  },
  {
   "cell_type": "code",
   "execution_count": 2,
   "metadata": {},
   "outputs": [],
   "source": [
    "def find_max(List):\n",
    "    largest_number = List[0]\n",
    "    for i in range(0,len(List)):\n",
    "        if List[i] > largest_number:\n",
    "            largest_number = List[i]\n",
    "    return largest_number\n"
   ]
  },
  {
   "cell_type": "code",
   "execution_count": 12,
   "metadata": {},
   "outputs": [
    {
     "name": "stdout",
     "output_type": "stream",
     "text": [
      "[13, 33, 81, 94, 73, 66, 33, 70, 32, 11, 96, 58, 55, 98, 84, 66, 0, 12, 9, 26]\n",
      "het grootste nummer is: 98\n"
     ]
    }
   ],
   "source": [
    "import random\n",
    "\n",
    "random_numbers = []\n",
    "\n",
    "for i in range(0,20):\n",
    "    random_numbers.append(random.randint(0,100))\n",
    "\n",
    "print(random_numbers)\n",
    "print(\"het grootste nummer is: \" + str(find_max(random_numbers)))"
   ]
  },
  {
   "cell_type": "code",
   "execution_count": null,
   "metadata": {},
   "outputs": [],
   "source": [
    "import string\n",
    "\n",
    "# O(n) - Data Type: String\n",
    "# Het algoritme is afhankelijk van de lengte van de string, het gaat telkens 1x over de gehele string heen.\n",
    "\n",
    "def mostOccuringLetter(input: str):\n",
    "    alphabet = string.ascii_letters\n",
    "    dictionary = {char: 0 for char in alphabet}\n",
    "    most_occuring = (0,0)\n",
    "    for c in input:\n",
    "        dictionary[c] += 1\n",
    "\n",
    "    items = dictionary.items() \n",
    "    for p in items:\n",
    "        if p[1] > most_occuring[1]:\n",
    "            most_occuring = p\n",
    "\n",
    "    return most_occuring\n",
    "\n",
    "mostOccuringLetter(\"Hello\")"
   ]
  }
 ],
 "metadata": {
  "kernelspec": {
   "display_name": "Python 3",
   "language": "python",
   "name": "python3"
  },
  "language_info": {
   "codemirror_mode": {
    "name": "ipython",
    "version": 3
   },
   "file_extension": ".py",
   "mimetype": "text/x-python",
   "name": "python",
   "nbconvert_exporter": "python",
   "pygments_lexer": "ipython3",
   "version": "3.12.1"
  }
 },
 "nbformat": 4,
 "nbformat_minor": 2
}
