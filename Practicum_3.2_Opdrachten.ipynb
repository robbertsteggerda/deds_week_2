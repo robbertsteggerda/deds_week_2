{
 "cells": [
  {
   "cell_type": "markdown",
   "metadata": {},
   "source": [
    "algoritme 1: find_max\n",
    "\n",
    "dit algoritme vindt het grootste cijfer in een List met lengte n\n",
    "\n",
    "de big Oh van dit algoritme is 𝒪(n) omdat er één for loop is met een instructie erin"
   ]
  },
  {
   "cell_type": "code",
   "execution_count": 2,
   "metadata": {},
   "outputs": [],
   "source": [
    "def find_max(List):\n",
    "    largest_number = List[0]\n",
    "    for i in range(1,len(List)): #start bij het tweede element omdat largest_number standaard op het eerste element in de List staat\n",
    "        if List[i] > largest_number:\n",
    "            largest_number = List[i]\n",
    "    return largest_number\n"
   ]
  },
  {
   "cell_type": "code",
   "execution_count": 49,
   "metadata": {},
   "outputs": [
    {
     "name": "stdout",
     "output_type": "stream",
     "text": [
      "[77, 90, 2, 87, 83, 97, 37, 12, 64, 95, 17, 87, 84, 13, 21, 17, 57, 26, 27, 0]\n",
      "het grootste nummer is: 97\n"
     ]
    }
   ],
   "source": [
    "import random\n",
    "\n",
    "random_numbers = []\n",
    "\n",
    "for i in range(0,20):\n",
    "    random_numbers.append(random.randint(0,100))\n",
    "\n",
    "print(random_numbers)\n",
    "print(\"het grootste nummer is: \" + str(find_max(random_numbers)))"
   ]
  },
  {
   "cell_type": "code",
   "execution_count": 54,
   "metadata": {},
   "outputs": [
    {
     "name": "stdout",
     "output_type": "stream",
     "text": [
      "Shortest path: [(0, 0), (0, 1), (0, 2), (1, 2), (2, 2), (2, 1), (2, 0), (3, 0), (4, 0), (4, 1), (4, 2), (4, 3), (4, 4)]\n"
     ]
    }
   ],
   "source": []
  }
 ],
 "metadata": {
  "kernelspec": {
   "display_name": "Python 3",
   "language": "python",
   "name": "python3"
  },
  "language_info": {
   "codemirror_mode": {
    "name": "ipython",
    "version": 3
   },
   "file_extension": ".py",
   "mimetype": "text/x-python",
   "name": "python",
   "nbconvert_exporter": "python",
   "pygments_lexer": "ipython3",
   "version": "3.12.2"
  }
 },
 "nbformat": 4,
 "nbformat_minor": 2
}
