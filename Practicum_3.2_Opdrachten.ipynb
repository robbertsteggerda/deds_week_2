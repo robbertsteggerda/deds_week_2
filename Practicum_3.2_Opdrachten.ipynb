{
 "cells": [
  {
   "cell_type": "markdown",
   "metadata": {},
   "source": [
    "# algoritme 1: find_max\n",
    "\n",
    "dit algoritme vindt het grootste cijfer in een List met lengte n\n",
    "\n",
    "de big Oh van dit algoritme is 𝒪(n) omdat er één for loop is met een instructie erin"
   ]
  },
  {
   "cell_type": "code",
   "execution_count": 1,
   "metadata": {},
   "outputs": [],
   "source": [
    "def find_max(List):\n",
    "    largest_number = List[0]\n",
    "    for i in range(1,len(List)): #start bij het tweede element omdat largest_number standaard op het eerste element in de List staat\n",
    "        if List[i] > largest_number:\n",
    "            largest_number = List[i]\n",
    "    return largest_number\n"
   ]
  },
  {
   "cell_type": "markdown",
   "metadata": {},
   "source": [
    "# timeit\n",
    "\n",
    " we maken hier gebruik van timeit om de snelheid van het algoritme te testen met verschillende datatypes"
   ]
  },
  {
   "cell_type": "markdown",
   "metadata": {},
   "source": [
    "## List"
   ]
  },
  {
   "cell_type": "code",
   "execution_count": null,
   "metadata": {},
   "outputs": [],
   "source": [
    "%%timeit\n",
    "\n",
    "import random\n",
    "\n",
    "random_numbers = []\n",
    "\n",
    "#complexiteit O(1) want het is een vast getal\n",
    "\n",
    "for i in range(0,20):\n",
    "    random_numbers.append(random.randint(0,100))\n",
    "\n",
    "print(random_numbers)\n",
    "print(\"het grootste nummer is: \" + str(find_max(random_numbers)))"
   ]
  },
  {
   "cell_type": "markdown",
   "metadata": {},
   "source": [
    "## dictionary"
   ]
  },
  {
   "cell_type": "code",
   "execution_count": null,
   "metadata": {},
   "outputs": [],
   "source": [
    "%%timeit\n",
    "\n",
    "import random\n",
    "\n",
    "random_numbers = {i: random.randint(0, 100) for i in range(20)}\n",
    "\n",
    "print(random_numbers)\n",
    "print(\"het grootste nummer is: \" + str(find_max(random_numbers)))"
   ]
  },
  {
   "cell_type": "markdown",
   "metadata": {},
   "source": [
    "## tuple"
   ]
  },
  {
   "cell_type": "code",
   "execution_count": null,
   "metadata": {},
   "outputs": [],
   "source": [
    "%%timeit\n",
    "\n",
    "import random\n",
    "\n",
    "random_numbers = tuple(random.randint(0, 100) for _ in range(20))\n",
    "\n",
    "print(random_numbers)\n",
    "print(\"het grootste nummer is: \" + str(find_max(random_numbers)))"
   ]
  },
  {
   "cell_type": "markdown",
   "metadata": {},
   "source": [
    "Een List is het snelste. Dit is te verwachten omdat een List geoptimaliseerd is voor deze usecase, namelijk het opslaan en snel weer vinden van data. \n",
    "\n",
    "Een tuple is iets langzamer. Een tuple is vergelijkbaar met een List dus waarschijnlijk is deze langzamer omdat het creëren van tuples iets langer duurt en het creëren en vullen met random data ook telkens opnieuw gebeurt bij het timen.\n",
    "\n",
    "de Dictionary is veruit het langzaamst. Dit komt waarschijnlijk doordat dictionaries zijn bedoeld om data snel op te zoeken op basis van de keys. Mijn implementatie itereert elke keer door de hele Dictionary heen. Een Dictionary is dus duidelijk niet het juiste datatype voor dit algoritme."
   ]
  },
  {
   "cell_type": "markdown",
   "metadata": {},
   "source": [
    "# mostOccuringLetter"
   ]
  },
  {
   "cell_type": "code",
   "execution_count": 5,
   "metadata": {},
   "outputs": [
    {
     "data": {
      "text/plain": [
       "('l', 2)"
      ]
     },
     "execution_count": 5,
     "metadata": {},
     "output_type": "execute_result"
    }
   ],
   "source": [
    "import string\n",
    "\n",
    "# O(n) - Data Type: String\n",
    "# Het algoritme is afhankelijk van de lengte van de string, het gaat telkens 1x over de gehele string heen.\n",
    "\n",
    "def mostOccuringLetter(input: str):\n",
    "    alphabet = string.ascii_letters\n",
    "    dictionary = {char: 0 for char in alphabet}\n",
    "    input = input.replace(\" \", \"\")\n",
    "    most_occuring = (0,0)\n",
    "    for c in input:\n",
    "        dictionary[c] += 1\n",
    "\n",
    "    items = dictionary.items() \n",
    "    for p in items:\n",
    "        if p[1] > most_occuring[1]:\n",
    "            most_occuring = p\n",
    "\n",
    "    return most_occuring\n",
    "\n",
    "mostOccuringLetter(\"Hello\")"
   ]
  },
  {
   "cell_type": "markdown",
   "metadata": {},
   "source": [
    "# linear search"
   ]
  },
  {
   "cell_type": "code",
   "execution_count": 6,
   "metadata": {},
   "outputs": [
    {
     "name": "stdout",
     "output_type": "stream",
     "text": [
      "komt 1 voor in de colletion? True\n"
     ]
    }
   ],
   "source": [
    "#linear search algoritme\n",
    "#de complexiteit van dit algoritme is O(n) waar n de lengte van de collection is\n",
    "\n",
    "def linear_search(collection, target):\n",
    "    for item in collection:\n",
    "        if item == target:\n",
    "            return True\n",
    "    return False\n",
    "\n",
    "# Example usage:\n",
    "collection = (1, 2, 3, 4, 5, 6, 7)\n",
    "target_element = 1\n",
    "result = linear_search(collection, target_element)\n",
    "print(\"komt {} voor in de colletion?\".format(target_element), result)\n"
   ]
  },
  {
   "cell_type": "markdown",
   "metadata": {},
   "source": [
    "# voorbeeld algoritme met dictionary\n",
    "\n",
    "dit algoritme werkt optimaal met een dictionary omdat het woord als key gebruikt kan worden en de waarde als hoeveelheid."
   ]
  },
  {
   "cell_type": "code",
   "execution_count": 14,
   "metadata": {},
   "outputs": [
    {
     "name": "stdout",
     "output_type": "stream",
     "text": [
      "{'dit': 1, 'is': 1, 'een': 1, 'voorbeeld': 1, 'zin': 2, 'het': 1, 'algoritme': 1, 'telt': 1, 'hoe': 1, 'vaak': 1, 'elk': 1, 'van': 1, 'deze': 1, 'woorden': 1, 'voorkomt': 1, 'in': 1, 'de': 1}\n"
     ]
    }
   ],
   "source": [
    "def count_word_frequency(text):\n",
    "    word_frequency = {}\n",
    "    \n",
    "    words = text.split()\n",
    "    \n",
    "    for word in words:\n",
    "        word = word.strip(\".,!?;:\\\"\").lower()\n",
    "        \n",
    "        if word:\n",
    "            word_frequency[word] = word_frequency.get(word, 0) + 1\n",
    "    \n",
    "    return word_frequency\n",
    "\n",
    "text = \"dit is een voorbeeld zin. Het algoritme telt hoe vaak elk van deze woorden voorkomt in de zin.\"\n",
    "word_frequency = count_word_frequency(text)\n",
    "print(word_frequency)\n"
   ]
  }
 ],
 "metadata": {
  "kernelspec": {
   "display_name": "Python 3",
   "language": "python",
   "name": "python3"
  },
  "language_info": {
   "codemirror_mode": {
    "name": "ipython",
    "version": 3
   },
   "file_extension": ".py",
   "mimetype": "text/x-python",
   "name": "python",
   "nbconvert_exporter": "python",
   "pygments_lexer": "ipython3",
   "version": "3.12.2"
  }
 },
 "nbformat": 4,
 "nbformat_minor": 2
}
