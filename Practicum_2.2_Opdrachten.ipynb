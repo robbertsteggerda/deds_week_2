{
 "cells": [
  {
   "cell_type": "markdown",
   "metadata": {},
   "source": [
    "# Practicumopdrachten Week 2.2 (eerste kans)"
   ]
  },
  {
   "cell_type": "markdown",
   "metadata": {},
   "source": [
    "## Dependencies importeren"
   ]
  },
  {
   "cell_type": "markdown",
   "metadata": {},
   "source": [
    "Importeer in het codeblok hieronder de packages die worden gebruikt om data in te lezen. Geef er ook de gebruikelijke aliassen aan.<br>\n",
    "N.B.: de 2 reeds geschreven coderegels zorgen ervoor dat eventuele warnings, die code-outputs lelijker maken, uitgezet worden."
   ]
  },
  {
   "cell_type": "code",
   "execution_count": 2,
   "metadata": {},
   "outputs": [
    {
     "name": "stderr",
     "output_type": "stream",
     "text": [
      "C:\\Users\\robbi\\AppData\\Local\\Temp\\ipykernel_23700\\726801694.py:2: DeprecationWarning: \n",
      "Pyarrow will become a required dependency of pandas in the next major release of pandas (pandas 3.0),\n",
      "(to allow more performant data types, such as the Arrow string type, and better interoperability with other libraries)\n",
      "but was not found to be installed on your system.\n",
      "If this would cause problems for you,\n",
      "please provide us feedback at https://github.com/pandas-dev/pandas/issues/54466\n",
      "        \n",
      "  import pandas as pd\n"
     ]
    }
   ],
   "source": [
    "\n",
    "import warnings\n",
    "import pandas as pd\n",
    "import sqlite3 as sql\n",
    "warnings.simplefilter('ignore')"
   ]
  },
  {
   "cell_type": "markdown",
   "metadata": {},
   "source": [
    "Zet het bestand go_sales.sqlite in hetzelfde mapje als dit notebook."
   ]
  },
  {
   "cell_type": "markdown",
   "metadata": {},
   "source": [
    "## Databasetabel inlezen"
   ]
  },
  {
   "cell_type": "markdown",
   "metadata": {},
   "source": [
    "Creëer een databaseconnectie met het bestand go_sales.sqlite."
   ]
  },
  {
   "cell_type": "code",
   "execution_count": 3,
   "metadata": {},
   "outputs": [],
   "source": [
    "sales_connection = sql.connect(\"go_sales.sqlite\")"
   ]
  },
  {
   "cell_type": "markdown",
   "metadata": {},
   "source": [
    "Gebruik de onderstaande sql_query om te achterhalen welke databasetabellen in go_sales zitten."
   ]
  },
  {
   "cell_type": "code",
   "execution_count": 4,
   "metadata": {},
   "outputs": [
    {
     "data": {
      "text/html": [
       "<div>\n",
       "<style scoped>\n",
       "    .dataframe tbody tr th:only-of-type {\n",
       "        vertical-align: middle;\n",
       "    }\n",
       "\n",
       "    .dataframe tbody tr th {\n",
       "        vertical-align: top;\n",
       "    }\n",
       "\n",
       "    .dataframe thead th {\n",
       "        text-align: right;\n",
       "    }\n",
       "</style>\n",
       "<table border=\"1\" class=\"dataframe\">\n",
       "  <thead>\n",
       "    <tr style=\"text-align: right;\">\n",
       "      <th></th>\n",
       "      <th>name</th>\n",
       "    </tr>\n",
       "  </thead>\n",
       "  <tbody>\n",
       "    <tr>\n",
       "      <th>0</th>\n",
       "      <td>country</td>\n",
       "    </tr>\n",
       "    <tr>\n",
       "      <th>1</th>\n",
       "      <td>order_details</td>\n",
       "    </tr>\n",
       "    <tr>\n",
       "      <th>2</th>\n",
       "      <td>order_header</td>\n",
       "    </tr>\n",
       "    <tr>\n",
       "      <th>3</th>\n",
       "      <td>order_method</td>\n",
       "    </tr>\n",
       "    <tr>\n",
       "      <th>4</th>\n",
       "      <td>product</td>\n",
       "    </tr>\n",
       "    <tr>\n",
       "      <th>5</th>\n",
       "      <td>product_line</td>\n",
       "    </tr>\n",
       "    <tr>\n",
       "      <th>6</th>\n",
       "      <td>product_type</td>\n",
       "    </tr>\n",
       "    <tr>\n",
       "      <th>7</th>\n",
       "      <td>retailer_site</td>\n",
       "    </tr>\n",
       "    <tr>\n",
       "      <th>8</th>\n",
       "      <td>return_reason</td>\n",
       "    </tr>\n",
       "    <tr>\n",
       "      <th>9</th>\n",
       "      <td>returned_item</td>\n",
       "    </tr>\n",
       "    <tr>\n",
       "      <th>10</th>\n",
       "      <td>sales_branch</td>\n",
       "    </tr>\n",
       "    <tr>\n",
       "      <th>11</th>\n",
       "      <td>sales_staff</td>\n",
       "    </tr>\n",
       "    <tr>\n",
       "      <th>12</th>\n",
       "      <td>SALES_TARGETData</td>\n",
       "    </tr>\n",
       "    <tr>\n",
       "      <th>13</th>\n",
       "      <td>sqlite_sequence</td>\n",
       "    </tr>\n",
       "  </tbody>\n",
       "</table>\n",
       "</div>"
      ],
      "text/plain": [
       "                name\n",
       "0            country\n",
       "1      order_details\n",
       "2       order_header\n",
       "3       order_method\n",
       "4            product\n",
       "5       product_line\n",
       "6       product_type\n",
       "7      retailer_site\n",
       "8      return_reason\n",
       "9      returned_item\n",
       "10      sales_branch\n",
       "11       sales_staff\n",
       "12  SALES_TARGETData\n",
       "13   sqlite_sequence"
      ]
     },
     "execution_count": 4,
     "metadata": {},
     "output_type": "execute_result"
    }
   ],
   "source": [
    "sql_query = \"SELECT name FROM sqlite_master WHERE type='table';\"\n",
    "pd.read_sql_query(sql_query,sales_connection)\n",
    "#Vul dit codeblok verder in"
   ]
  },
  {
   "cell_type": "markdown",
   "metadata": {},
   "source": [
    "Gebruik de gecreëerde databaseconnectie om de resultaten van de volgende query in een DataFrame te zetten:<br>\n",
    "*SELECT * FROM sales_staff* "
   ]
  },
  {
   "cell_type": "code",
   "execution_count": 5,
   "metadata": {},
   "outputs": [],
   "source": [
    "dictionary = pd.read_sql_query(\"SELECT * FROM sales_staff\",sales_connection)\n",
    "dataframe = pd.DataFrame(dictionary)"
   ]
  },
  {
   "cell_type": "markdown",
   "metadata": {},
   "source": [
    "## DataFrames uitsplitsen en opbouwen met Series"
   ]
  },
  {
   "cell_type": "markdown",
   "metadata": {},
   "source": [
    "De volgende 5 kolommen hebben betrekking op de contactdetails van elke medewerker in dit DataFrame:\n",
    "- SALES_STAFF_CODE\n",
    "- WORK_PHONE\n",
    "- EXTENSION\n",
    "- FAX\n",
    "- EMAIL\n",
    "\n",
    "Maak van elk van deze 5 kolommen een serie."
   ]
  },
  {
   "cell_type": "code",
   "execution_count": 6,
   "metadata": {},
   "outputs": [],
   "source": [
    "sales_staff_code_querry = \"SELECT SALES_STAFF_CODE FROM sales_staff\"\n",
    "sales_staff_code_result = pd.read_sql_query(sales_staff_code_querry,sales_connection)\n",
    "\n",
    "sales_staff_code_series = sales_staff_code_result['SALES_STAFF_CODE']\n",
    "\n",
    "work_phone_querry = \"SELECT WORK_PHONE FROM sales_staff\"\n",
    "work_phone_result = pd.read_sql_query(work_phone_querry,sales_connection)\n",
    "\n",
    "work_phone_series = work_phone_result['WORK_PHONE']\n",
    "\n",
    "extension_querry = \"SELECT EXTENSION FROM sales_staff\"\n",
    "extension_result = pd.read_sql_query(extension_querry,sales_connection)\n",
    "\n",
    "extension_series = extension_result['EXTENSION']\n",
    "\n",
    "fax_querry = \"SELECT FAX FROM sales_staff\"\n",
    "fax_result = pd.read_sql_query(fax_querry,sales_connection)\n",
    "\n",
    "fax_series = fax_result['FAX']\n",
    "\n",
    "email_querry = \"SELECT EMAIL FROM sales_staff\"\n",
    "email_result = pd.read_sql_query(email_querry,sales_connection)\n",
    "\n",
    "email_series = email_result['EMAIL']\n",
    "\n",
    "\n"
   ]
  },
  {
   "cell_type": "markdown",
   "metadata": {},
   "source": [
    "Zet allevijf gecreëerde series als kolommen naast elkaar in een DataFrame (*contact_details*). Gebruik pd.concat(...)<br>\n",
    "Hulpvraag: welke waarde geef je aan de axis-parameter?"
   ]
  },
  {
   "cell_type": "code",
   "execution_count": 7,
   "metadata": {},
   "outputs": [
    {
     "name": "stdout",
     "output_type": "stream",
     "text": [
      "    SALES_STAFF_CODE           WORK_PHONE EXTENSION                  FAX  \\\n",
      "0                100  +358(0)17 - 433 127       825  +358(0)17 - 433 129   \n",
      "1                101        82-2-778-6587      1228        82-2-778-6586   \n",
      "2                102        82-2-778-6587      2641        82-2-778-6586   \n",
      "3                103      886-2-2975-1988      1541      886-2-2989-4978   \n",
      "4                104      886-2-2975-1988      2311      886-2-2989-4978   \n",
      "..               ...                  ...       ...                  ...   \n",
      "97                95      +35 94 322 3540       325      +35 91 548 1637   \n",
      "98                96    +55 (11) 344-4444      3490    +55 (11) 333-2223   \n",
      "99                97    +55 (11) 344-4444      3364    +55 (11) 333-2223   \n",
      "100               98    +55 (11) 344-4444      1442    +55 (11) 333-2223   \n",
      "101               99  +358(0)17 - 433 127       489  +358(0)17 - 433 129   \n",
      "\n",
      "                       EMAIL  \n",
      "0    TSavolainen@grtd123.com  \n",
      "1           CKim@grtd123.com  \n",
      "2          JChoi@grtd123.com  \n",
      "3          KKwao@grtd123.com  \n",
      "4           CFon@grtd123.com  \n",
      "..                       ...  \n",
      "97     TIglesias@grtd123.com  \n",
      "98        BLopes@grtd123.com  \n",
      "99       VBarros@grtd123.com  \n",
      "100   EGuimaraes@grtd123.com  \n",
      "101    HLindholm@grtd123.com  \n",
      "\n",
      "[102 rows x 5 columns]\n"
     ]
    }
   ],
   "source": [
    "contact_details = pd.concat([sales_staff_code_series, work_phone_series,extension_series,fax_series,email_series],axis = 1)\n",
    "print(contact_details)"
   ]
  },
  {
   "cell_type": "markdown",
   "metadata": {},
   "source": [
    "## Series en DataFrames maken vanuit lists en dictionaries"
   ]
  },
  {
   "cell_type": "markdown",
   "metadata": {},
   "source": [
    "Met .head(*getal*) kan je de bovenste *getal* rijen van een tabel selecteren.<br>\n",
    "Selecteer op deze manier de bovenste 5 rijen van *contact_details*.<br>\n",
    "Sla dit resultaat op in een nieuw DataFrame."
   ]
  },
  {
   "cell_type": "code",
   "execution_count": 8,
   "metadata": {},
   "outputs": [
    {
     "name": "stdout",
     "output_type": "stream",
     "text": [
      "  SALES_STAFF_CODE           WORK_PHONE EXTENSION                  FAX  \\\n",
      "0              100  +358(0)17 - 433 127       825  +358(0)17 - 433 129   \n",
      "1              101        82-2-778-6587      1228        82-2-778-6586   \n",
      "2              102        82-2-778-6587      2641        82-2-778-6586   \n",
      "3              103      886-2-2975-1988      1541      886-2-2989-4978   \n",
      "4              104      886-2-2975-1988      2311      886-2-2989-4978   \n",
      "\n",
      "                     EMAIL  \n",
      "0  TSavolainen@grtd123.com  \n",
      "1         CKim@grtd123.com  \n",
      "2        JChoi@grtd123.com  \n",
      "3        KKwao@grtd123.com  \n",
      "4         CFon@grtd123.com  \n"
     ]
    }
   ],
   "source": [
    "nieuw_dataframe = contact_details.head(5)\n",
    "print(nieuw_dataframe)"
   ]
  },
  {
   "cell_type": "markdown",
   "metadata": {},
   "source": [
    "Aan deze 10 rijen met contactdetails willen we 3 kolommen toevoegen: 'FIRST_LANGUAGE', 'SECOND_LANGUAGE' & 'THIRD_LANGUAGE'.<br>\n",
    "Iedereens 'First Language' is Engels, afgekort 'EN'. Maak een lijst waarin 5x 'EN' staat.<br>\n",
    "Converteer deze lijst vervolgens naar een serie en voeg deze horizontaal samen met het resultaat van de vorige opdracht.<br>\n",
    "Vergeet niet een passende naam te geven aan de nieuw ontstane kolom."
   ]
  },
  {
   "cell_type": "code",
   "execution_count": 9,
   "metadata": {},
   "outputs": [
    {
     "name": "stdout",
     "output_type": "stream",
     "text": [
      "  SALES_STAFF_CODE           WORK_PHONE EXTENSION                  FAX  \\\n",
      "0              100  +358(0)17 - 433 127       825  +358(0)17 - 433 129   \n",
      "1              101        82-2-778-6587      1228        82-2-778-6586   \n",
      "2              102        82-2-778-6587      2641        82-2-778-6586   \n",
      "3              103      886-2-2975-1988      1541      886-2-2989-4978   \n",
      "4              104      886-2-2975-1988      2311      886-2-2989-4978   \n",
      "\n",
      "                     EMAIL FIRST_LANGUAGE  \n",
      "0  TSavolainen@grtd123.com             EN  \n",
      "1         CKim@grtd123.com             EN  \n",
      "2        JChoi@grtd123.com             EN  \n",
      "3        KKwao@grtd123.com             EN  \n",
      "4         CFon@grtd123.com             EN  \n"
     ]
    }
   ],
   "source": [
    "EN_list = ['EN'] * 5\n",
    "EN_series = pd.Series(EN_list)\n",
    "nieuw_dataframe['FIRST_LANGUAGE'] = EN_series\n",
    "\n",
    "print(nieuw_dataframe)"
   ]
  },
  {
   "cell_type": "markdown",
   "metadata": {},
   "source": [
    "Maak nu de tweede kolom ('SECOND_LANGUAGE'). Maak daarvoor een dictionary, met daarin...\n",
    "- Als keys: alle indexen uit het resultaat van het vorige codeblok.\n",
    "- Als values: bij de eerste 3 elementen 'FR' (Frankrijk), bij de laatste 2 'DE' (Duitsland).\n",
    "\n",
    "Maak vervolgens ook hier weer een serie van en voeg ook deze weer horizontaal samen met het rsultaat van de vorige opdracht.<br>\n",
    "Vergeet niet een passende naam te geven aan de nieuw ontstane kolom."
   ]
  },
  {
   "cell_type": "code",
   "execution_count": 10,
   "metadata": {},
   "outputs": [
    {
     "name": "stdout",
     "output_type": "stream",
     "text": [
      "  SALES_STAFF_CODE           WORK_PHONE EXTENSION                  FAX  \\\n",
      "0              100  +358(0)17 - 433 127       825  +358(0)17 - 433 129   \n",
      "1              101        82-2-778-6587      1228        82-2-778-6586   \n",
      "2              102        82-2-778-6587      2641        82-2-778-6586   \n",
      "3              103      886-2-2975-1988      1541      886-2-2989-4978   \n",
      "4              104      886-2-2975-1988      2311      886-2-2989-4978   \n",
      "\n",
      "                     EMAIL FIRST_LANGUAGE SECOND_LANGUAGE  \n",
      "0  TSavolainen@grtd123.com             EN              FR  \n",
      "1         CKim@grtd123.com             EN              FR  \n",
      "2        JChoi@grtd123.com             EN              FR  \n",
      "3        KKwao@grtd123.com             EN              DE  \n",
      "4         CFon@grtd123.com             EN              DE  \n"
     ]
    }
   ],
   "source": [
    "second_language_dict = {'0':'FR','1':'FR','2':'FR','3':'DE','4':'DE'}\n",
    "second_language_series = pd.Series(second_language_dict)\n",
    "\n",
    "second_language_series = second_language_series.reset_index(drop=True)\n",
    "\n",
    "nieuw_dataframe['SECOND_LANGUAGE'] = second_language_series\n",
    "\n",
    "print(nieuw_dataframe)"
   ]
  },
  {
   "cell_type": "markdown",
   "metadata": {},
   "source": [
    "Maak ten slotte de derde kolom ('THIRD_LANGUAGE') door een dictionary te maken met daarin...\n",
    "- Als key: de naam van de nieuwe kolom. Zie je het verschil qua keys met de vorige opdracht?\n",
    "- Als waarde: een lijst met daarin 'NL', 'NL', 'JPN', 'JPN', 'KOR'.\n",
    "\n",
    "Converteer deze dictionary nu naar een DataFrame en voeg deze horizontaal samen met het resultaat van de vorige opdracht.<br>\n",
    "Waarom hoef je hierna de nieuw ontstane kolom geen passende naam meer te geven?"
   ]
  },
  {
   "cell_type": "code",
   "execution_count": 11,
   "metadata": {},
   "outputs": [
    {
     "name": "stdout",
     "output_type": "stream",
     "text": [
      "  SALES_STAFF_CODE           WORK_PHONE EXTENSION                  FAX  \\\n",
      "0              100  +358(0)17 - 433 127       825  +358(0)17 - 433 129   \n",
      "1              101        82-2-778-6587      1228        82-2-778-6586   \n",
      "2              102        82-2-778-6587      2641        82-2-778-6586   \n",
      "3              103      886-2-2975-1988      1541      886-2-2989-4978   \n",
      "4              104      886-2-2975-1988      2311      886-2-2989-4978   \n",
      "\n",
      "                     EMAIL FIRST_LANGUAGE SECOND_LANGUAGE THIRD_LANGUAGE  \n",
      "0  TSavolainen@grtd123.com             EN              FR             NL  \n",
      "1         CKim@grtd123.com             EN              FR             NL  \n",
      "2        JChoi@grtd123.com             EN              FR            JPN  \n",
      "3        KKwao@grtd123.com             EN              DE            JPN  \n",
      "4         CFon@grtd123.com             EN              DE            KOR  \n"
     ]
    }
   ],
   "source": [
    "dict = {'THIRD_LANGUAGE':['NL','NL','JPN','JPN','KOR']}\n",
    "df = pd.DataFrame(dict)\n",
    "nieuw_dataframe['THIRD_LANGUAGE'] = df\n",
    "\n",
    "print(nieuw_dataframe)"
   ]
  },
  {
   "cell_type": "markdown",
   "metadata": {},
   "source": [
    "## Data toevoegen"
   ]
  },
  {
   "cell_type": "markdown",
   "metadata": {},
   "source": [
    "### Rijen"
   ]
  },
  {
   "cell_type": "markdown",
   "metadata": {},
   "source": [
    "Gebruik de originele databasetabel *sales_staff*.<br>\n",
    "Voeg een extra rij toe met eigen invulling. Zorg ervoor dat de index netjes doorloopt.<br>\n",
    "Hulpvraag: welke waarde geef je nu aan axis?"
   ]
  },
  {
   "cell_type": "code",
   "execution_count": 18,
   "metadata": {},
   "outputs": [
    {
     "name": "stdout",
     "output_type": "stream",
     "text": [
      "    SALES_STAFF_CODE FIRST_NAME   LAST_NAME                   POSITION_EN  \\\n",
      "0                100     Tuomas  Savolainen  Level 2 Sales Representative   \n",
      "1                101   Chang-ho         Kim  Level 2 Sales Representative   \n",
      "2                102    Jung-ho        Choi  Level 3 Sales Representative   \n",
      "3                103  Kwei-Ping         Kao  Level 2 Sales Representative   \n",
      "4                104  Chin-Tsai        Fang  Level 3 Sales Representative   \n",
      "..               ...        ...         ...                           ...   \n",
      "98                96     Bayard       Lopes                Branch Manager   \n",
      "99                97     Viviam      Barros  Level 3 Sales Representative   \n",
      "100               98    Eduardo   Guimarães  Level 2 Sales Representative   \n",
      "101               99     Helena    Lindholm  Level 3 Sales Representative   \n",
      "102              200       BART        SMIT                           CEO   \n",
      "\n",
      "              WORK_PHONE EXTENSION                  FAX  \\\n",
      "0    +358(0)17 - 433 127       825  +358(0)17 - 433 129   \n",
      "1          82-2-778-6587      1228        82-2-778-6586   \n",
      "2          82-2-778-6587      2641        82-2-778-6586   \n",
      "3        886-2-2975-1988      1541      886-2-2989-4978   \n",
      "4        886-2-2975-1988      2311      886-2-2989-4978   \n",
      "..                   ...       ...                  ...   \n",
      "98     +55 (11) 344-4444      3490    +55 (11) 333-2223   \n",
      "99     +55 (11) 344-4444      3364    +55 (11) 333-2223   \n",
      "100    +55 (11) 344-4444      1442    +55 (11) 333-2223   \n",
      "101  +358(0)17 - 433 127       489  +358(0)17 - 433 129   \n",
      "102        +316 38345856       123    +55 (11) 444-2844   \n",
      "\n",
      "                       EMAIL  DATE_HIRED SALES_BRANCH_CODE TRIAL888  \n",
      "0    TSavolainen@grtd123.com   23-7-2014                31        T  \n",
      "1           CKim@grtd123.com  15-12-2014                32        T  \n",
      "2          JChoi@grtd123.com  27-11-2014                32        T  \n",
      "3          KKwao@grtd123.com   7-10-2014                33        T  \n",
      "4           CFon@grtd123.com    8-5-2012                33        T  \n",
      "..                       ...         ...               ...      ...  \n",
      "98        BLopes@grtd123.com   12-8-2013                30        T  \n",
      "99       VBarros@grtd123.com   10-2-2017                30        T  \n",
      "100   EGuimaraes@grtd123.com   14-2-2015                30        T  \n",
      "101    HLindholm@grtd123.com   17-8-2013                31        T  \n",
      "102      bart.smit@gmail.com   17-9-2014                 1        T  \n",
      "\n",
      "[103 rows x 11 columns]\n"
     ]
    }
   ],
   "source": [
    "sales_staff = pd.read_sql_query('SELECT * FROM sales_staff',sales_connection)\n",
    "\n",
    "nieuwe_medewerker_dictionary = {'SALES_STAFF_CODE':[200],'FIRST_NAME':['BART'],'LAST_NAME':['SMIT'],'POSITION_EN':['CEO'],'WORK_PHONE':['+316 38345856'],'EXTENSION':['123'],'FAX': ['+55 (11) 444-2844'],'EMAIL':['bart.smit@gmail.com'],'DATE_HIRED':['17-9-2014'],'SALES_BRANCH_CODE':[1],'TRIAL888':['T']}\n",
    "new_sales_staff = pd.concat([sales_staff,pd.DataFrame(nieuwe_medewerker_dictionary)],ignore_index=True)\n",
    "\n",
    "print(new_sales_staff)"
   ]
  },
  {
   "cell_type": "markdown",
   "metadata": {},
   "source": [
    "### Kolommen"
   ]
  },
  {
   "cell_type": "markdown",
   "metadata": {},
   "source": [
    "Voeg een kolom *FULL_NAME* toe die de waarden van *FIRST_NAME* en *LAST_NAME* achter elkaar zet, gescheiden door een spatie."
   ]
  },
  {
   "cell_type": "code",
   "execution_count": 21,
   "metadata": {},
   "outputs": [
    {
     "name": "stdout",
     "output_type": "stream",
     "text": [
      "    SALES_STAFF_CODE FIRST_NAME   LAST_NAME                   POSITION_EN  \\\n",
      "0                100     Tuomas  Savolainen  Level 2 Sales Representative   \n",
      "1                101   Chang-ho         Kim  Level 2 Sales Representative   \n",
      "2                102    Jung-ho        Choi  Level 3 Sales Representative   \n",
      "3                103  Kwei-Ping         Kao  Level 2 Sales Representative   \n",
      "4                104  Chin-Tsai        Fang  Level 3 Sales Representative   \n",
      "..               ...        ...         ...                           ...   \n",
      "98                96     Bayard       Lopes                Branch Manager   \n",
      "99                97     Viviam      Barros  Level 3 Sales Representative   \n",
      "100               98    Eduardo   Guimarães  Level 2 Sales Representative   \n",
      "101               99     Helena    Lindholm  Level 3 Sales Representative   \n",
      "102              200       BART        SMIT                           CEO   \n",
      "\n",
      "              WORK_PHONE EXTENSION                  FAX  \\\n",
      "0    +358(0)17 - 433 127       825  +358(0)17 - 433 129   \n",
      "1          82-2-778-6587      1228        82-2-778-6586   \n",
      "2          82-2-778-6587      2641        82-2-778-6586   \n",
      "3        886-2-2975-1988      1541      886-2-2989-4978   \n",
      "4        886-2-2975-1988      2311      886-2-2989-4978   \n",
      "..                   ...       ...                  ...   \n",
      "98     +55 (11) 344-4444      3490    +55 (11) 333-2223   \n",
      "99     +55 (11) 344-4444      3364    +55 (11) 333-2223   \n",
      "100    +55 (11) 344-4444      1442    +55 (11) 333-2223   \n",
      "101  +358(0)17 - 433 127       489  +358(0)17 - 433 129   \n",
      "102        +316 38345856       123    +55 (11) 444-2844   \n",
      "\n",
      "                       EMAIL  DATE_HIRED SALES_BRANCH_CODE TRIAL888  \\\n",
      "0    TSavolainen@grtd123.com   23-7-2014                31        T   \n",
      "1           CKim@grtd123.com  15-12-2014                32        T   \n",
      "2          JChoi@grtd123.com  27-11-2014                32        T   \n",
      "3          KKwao@grtd123.com   7-10-2014                33        T   \n",
      "4           CFon@grtd123.com    8-5-2012                33        T   \n",
      "..                       ...         ...               ...      ...   \n",
      "98        BLopes@grtd123.com   12-8-2013                30        T   \n",
      "99       VBarros@grtd123.com   10-2-2017                30        T   \n",
      "100   EGuimaraes@grtd123.com   14-2-2015                30        T   \n",
      "101    HLindholm@grtd123.com   17-8-2013                31        T   \n",
      "102      bart.smit@gmail.com   17-9-2014                 1        T   \n",
      "\n",
      "             FULL_NAME  \n",
      "0    Tuomas Savolainen  \n",
      "1         Chang-ho Kim  \n",
      "2         Jung-ho Choi  \n",
      "3        Kwei-Ping Kao  \n",
      "4       Chin-Tsai Fang  \n",
      "..                 ...  \n",
      "98        Bayard Lopes  \n",
      "99       Viviam Barros  \n",
      "100  Eduardo Guimarães  \n",
      "101    Helena Lindholm  \n",
      "102          BART SMIT  \n",
      "\n",
      "[103 rows x 12 columns]\n"
     ]
    }
   ],
   "source": [
    "new_sales_staff['FULL_NAME'] = new_sales_staff['FIRST_NAME'] + \" \" + new_sales_staff['LAST_NAME']\n",
    "\n",
    "print(new_sales_staff)"
   ]
  },
  {
   "cell_type": "markdown",
   "metadata": {},
   "source": [
    "## Data wijzigen"
   ]
  },
  {
   "cell_type": "markdown",
   "metadata": {},
   "source": [
    "### Datatypen"
   ]
  },
  {
   "cell_type": "markdown",
   "metadata": {},
   "source": [
    "Door het attribuut .dtypes van een DataFrame op te vragen krijg je een serie die per kolom het datatype weergeeft. Doe dit bij de originele databasetabel *sales_staff*"
   ]
  },
  {
   "cell_type": "code",
   "execution_count": 22,
   "metadata": {},
   "outputs": [
    {
     "name": "stdout",
     "output_type": "stream",
     "text": [
      "SALES_STAFF_CODE     object\n",
      "FIRST_NAME           object\n",
      "LAST_NAME            object\n",
      "POSITION_EN          object\n",
      "WORK_PHONE           object\n",
      "EXTENSION            object\n",
      "FAX                  object\n",
      "EMAIL                object\n",
      "DATE_HIRED           object\n",
      "SALES_BRANCH_CODE    object\n",
      "TRIAL888             object\n",
      "dtype: object\n"
     ]
    }
   ],
   "source": [
    "print(sales_staff.dtypes)"
   ]
  },
  {
   "cell_type": "markdown",
   "metadata": {},
   "source": [
    "Hier valt op dat elke kolom het datatype 'object' heeft: Python leest dus alles als string. Wiskundige operaties zijn hierdoor niet mogelijk.<br>\n",
    "We kunnen proberen om kolommen met getallen, bijvoorbeeld de 'extension', te converteren naar een int. Zie onderstaande code."
   ]
  },
  {
   "cell_type": "code",
   "execution_count": null,
   "metadata": {},
   "outputs": [
    {
     "ename": "NameError",
     "evalue": "name 'sales_staff' is not defined",
     "output_type": "error",
     "traceback": [
      "\u001b[1;31m---------------------------------------------------------------------------\u001b[0m",
      "\u001b[1;31mNameError\u001b[0m                                 Traceback (most recent call last)",
      "Cell \u001b[1;32mIn[3], line 1\u001b[0m\n\u001b[1;32m----> 1\u001b[0m sales_staff[\u001b[38;5;124m'\u001b[39m\u001b[38;5;124mEXTENSION\u001b[39m\u001b[38;5;124m'\u001b[39m] \u001b[38;5;241m=\u001b[39m \u001b[43msales_staff\u001b[49m[\u001b[38;5;124m'\u001b[39m\u001b[38;5;124mEXTENSION\u001b[39m\u001b[38;5;124m'\u001b[39m]\u001b[38;5;241m.\u001b[39mastype(\u001b[38;5;28mint\u001b[39m)\n\u001b[0;32m      2\u001b[0m sales_staff\u001b[38;5;241m.\u001b[39mdtypes\n",
      "\u001b[1;31mNameError\u001b[0m: name 'sales_staff' is not defined"
     ]
    }
   ],
   "source": [
    "sales_staff['EXTENSION'] = sales_staff['EXTENSION'].astype(int)\n",
    "sales_staff.dtypes"
   ]
  },
  {
   "cell_type": "markdown",
   "metadata": {},
   "source": [
    "Dit lukt echter niet, omdat er in de kolom 'EXTENSION' lege waarden zitten die niet geconverteerd kunnen worden naar een int.<br>\n",
    "Wél kan je deze naar een float converteren, zie onderstaande code:"
   ]
  },
  {
   "cell_type": "code",
   "execution_count": 24,
   "metadata": {},
   "outputs": [
    {
     "data": {
      "text/plain": [
       "SALES_STAFF_CODE      object\n",
       "FIRST_NAME            object\n",
       "LAST_NAME             object\n",
       "POSITION_EN           object\n",
       "WORK_PHONE            object\n",
       "EXTENSION            float64\n",
       "FAX                   object\n",
       "EMAIL                 object\n",
       "DATE_HIRED            object\n",
       "SALES_BRANCH_CODE     object\n",
       "TRIAL888              object\n",
       "dtype: object"
      ]
     },
     "execution_count": 24,
     "metadata": {},
     "output_type": "execute_result"
    }
   ],
   "source": [
    "sales_staff['EXTENSION'] = sales_staff['EXTENSION'].astype(float)\n",
    "sales_staff.dtypes"
   ]
  },
  {
   "cell_type": "markdown",
   "metadata": {},
   "source": [
    "Als we in de rij van 'EXTENSION' kijken zien we dat de conversie van het datatype nu is gelukt.<br>\n",
    "Dit is <b>randvoorwaardelijk</b> voor het uitvoeren van wiskundige operaties.<br>"
   ]
  },
  {
   "cell_type": "markdown",
   "metadata": {},
   "source": [
    "### Rijen"
   ]
  },
  {
   "cell_type": "markdown",
   "metadata": {},
   "source": [
    "Zorg er nu voor dat bij alle extensions 1 wordt opgeteld."
   ]
  },
  {
   "cell_type": "code",
   "execution_count": 25,
   "metadata": {},
   "outputs": [
    {
     "name": "stdout",
     "output_type": "stream",
     "text": [
      "    SALES_STAFF_CODE FIRST_NAME   LAST_NAME                   POSITION_EN  \\\n",
      "0                100     Tuomas  Savolainen  Level 2 Sales Representative   \n",
      "1                101   Chang-ho         Kim  Level 2 Sales Representative   \n",
      "2                102    Jung-ho        Choi  Level 3 Sales Representative   \n",
      "3                103  Kwei-Ping         Kao  Level 2 Sales Representative   \n",
      "4                104  Chin-Tsai        Fang  Level 3 Sales Representative   \n",
      "..               ...        ...         ...                           ...   \n",
      "97                95      Tomás    Iglesias  Level 2 Sales Representative   \n",
      "98                96     Bayard       Lopes                Branch Manager   \n",
      "99                97     Viviam      Barros  Level 3 Sales Representative   \n",
      "100               98    Eduardo   Guimarães  Level 2 Sales Representative   \n",
      "101               99     Helena    Lindholm  Level 3 Sales Representative   \n",
      "\n",
      "              WORK_PHONE  EXTENSION                  FAX  \\\n",
      "0    +358(0)17 - 433 127      826.0  +358(0)17 - 433 129   \n",
      "1          82-2-778-6587     1229.0        82-2-778-6586   \n",
      "2          82-2-778-6587     2642.0        82-2-778-6586   \n",
      "3        886-2-2975-1988     1542.0      886-2-2989-4978   \n",
      "4        886-2-2975-1988     2312.0      886-2-2989-4978   \n",
      "..                   ...        ...                  ...   \n",
      "97       +35 94 322 3540      326.0      +35 91 548 1637   \n",
      "98     +55 (11) 344-4444     3491.0    +55 (11) 333-2223   \n",
      "99     +55 (11) 344-4444     3365.0    +55 (11) 333-2223   \n",
      "100    +55 (11) 344-4444     1443.0    +55 (11) 333-2223   \n",
      "101  +358(0)17 - 433 127      490.0  +358(0)17 - 433 129   \n",
      "\n",
      "                       EMAIL  DATE_HIRED SALES_BRANCH_CODE TRIAL888  \n",
      "0    TSavolainen@grtd123.com   23-7-2014                31        T  \n",
      "1           CKim@grtd123.com  15-12-2014                32        T  \n",
      "2          JChoi@grtd123.com  27-11-2014                32        T  \n",
      "3          KKwao@grtd123.com   7-10-2014                33        T  \n",
      "4           CFon@grtd123.com    8-5-2012                33        T  \n",
      "..                       ...         ...               ...      ...  \n",
      "97     TIglesias@grtd123.com   19-2-2014                29        T  \n",
      "98        BLopes@grtd123.com   12-8-2013                30        T  \n",
      "99       VBarros@grtd123.com   10-2-2017                30        T  \n",
      "100   EGuimaraes@grtd123.com   14-2-2015                30        T  \n",
      "101    HLindholm@grtd123.com   17-8-2013                31        T  \n",
      "\n",
      "[102 rows x 11 columns]\n"
     ]
    }
   ],
   "source": [
    "sales_staff['EXTENSION'] += 1\n",
    "\n",
    "print(sales_staff)"
   ]
  },
  {
   "cell_type": "markdown",
   "metadata": {},
   "source": [
    "Elke 'Branch Manager' wordt nu 'General Manager'. Schrijf code zodat deze wijziging doorgevoerd wordt in het DataFrame."
   ]
  },
  {
   "cell_type": "code",
   "execution_count": 26,
   "metadata": {},
   "outputs": [
    {
     "name": "stdout",
     "output_type": "stream",
     "text": [
      "    SALES_STAFF_CODE FIRST_NAME   LAST_NAME                   POSITION_EN  \\\n",
      "0                100     Tuomas  Savolainen  Level 2 Sales Representative   \n",
      "1                101   Chang-ho         Kim  Level 2 Sales Representative   \n",
      "2                102    Jung-ho        Choi  Level 3 Sales Representative   \n",
      "3                103  Kwei-Ping         Kao  Level 2 Sales Representative   \n",
      "4                104  Chin-Tsai        Fang  Level 3 Sales Representative   \n",
      "..               ...        ...         ...                           ...   \n",
      "97                95      Tomás    Iglesias  Level 2 Sales Representative   \n",
      "98                96     Bayard       Lopes               General Manager   \n",
      "99                97     Viviam      Barros  Level 3 Sales Representative   \n",
      "100               98    Eduardo   Guimarães  Level 2 Sales Representative   \n",
      "101               99     Helena    Lindholm  Level 3 Sales Representative   \n",
      "\n",
      "              WORK_PHONE  EXTENSION                  FAX  \\\n",
      "0    +358(0)17 - 433 127      826.0  +358(0)17 - 433 129   \n",
      "1          82-2-778-6587     1229.0        82-2-778-6586   \n",
      "2          82-2-778-6587     2642.0        82-2-778-6586   \n",
      "3        886-2-2975-1988     1542.0      886-2-2989-4978   \n",
      "4        886-2-2975-1988     2312.0      886-2-2989-4978   \n",
      "..                   ...        ...                  ...   \n",
      "97       +35 94 322 3540      326.0      +35 91 548 1637   \n",
      "98     +55 (11) 344-4444     3491.0    +55 (11) 333-2223   \n",
      "99     +55 (11) 344-4444     3365.0    +55 (11) 333-2223   \n",
      "100    +55 (11) 344-4444     1443.0    +55 (11) 333-2223   \n",
      "101  +358(0)17 - 433 127      490.0  +358(0)17 - 433 129   \n",
      "\n",
      "                       EMAIL  DATE_HIRED SALES_BRANCH_CODE TRIAL888  \n",
      "0    TSavolainen@grtd123.com   23-7-2014                31        T  \n",
      "1           CKim@grtd123.com  15-12-2014                32        T  \n",
      "2          JChoi@grtd123.com  27-11-2014                32        T  \n",
      "3          KKwao@grtd123.com   7-10-2014                33        T  \n",
      "4           CFon@grtd123.com    8-5-2012                33        T  \n",
      "..                       ...         ...               ...      ...  \n",
      "97     TIglesias@grtd123.com   19-2-2014                29        T  \n",
      "98        BLopes@grtd123.com   12-8-2013                30        T  \n",
      "99       VBarros@grtd123.com   10-2-2017                30        T  \n",
      "100   EGuimaraes@grtd123.com   14-2-2015                30        T  \n",
      "101    HLindholm@grtd123.com   17-8-2013                31        T  \n",
      "\n",
      "[102 rows x 11 columns]\n"
     ]
    }
   ],
   "source": [
    "sales_staff = sales_staff.replace('Branch Manager','General Manager')\n",
    "print(sales_staff)"
   ]
  },
  {
   "cell_type": "markdown",
   "metadata": {},
   "source": [
    "### Kolommen"
   ]
  },
  {
   "cell_type": "markdown",
   "metadata": {},
   "source": [
    "Verander de kolomnaam 'POSITION_EN' naar 'POSITION'."
   ]
  },
  {
   "cell_type": "code",
   "execution_count": 27,
   "metadata": {},
   "outputs": [
    {
     "name": "stdout",
     "output_type": "stream",
     "text": [
      "    SALES_STAFF_CODE FIRST_NAME   LAST_NAME                      POSITION  \\\n",
      "0                100     Tuomas  Savolainen  Level 2 Sales Representative   \n",
      "1                101   Chang-ho         Kim  Level 2 Sales Representative   \n",
      "2                102    Jung-ho        Choi  Level 3 Sales Representative   \n",
      "3                103  Kwei-Ping         Kao  Level 2 Sales Representative   \n",
      "4                104  Chin-Tsai        Fang  Level 3 Sales Representative   \n",
      "..               ...        ...         ...                           ...   \n",
      "97                95      Tomás    Iglesias  Level 2 Sales Representative   \n",
      "98                96     Bayard       Lopes               General Manager   \n",
      "99                97     Viviam      Barros  Level 3 Sales Representative   \n",
      "100               98    Eduardo   Guimarães  Level 2 Sales Representative   \n",
      "101               99     Helena    Lindholm  Level 3 Sales Representative   \n",
      "\n",
      "              WORK_PHONE  EXTENSION                  FAX  \\\n",
      "0    +358(0)17 - 433 127      826.0  +358(0)17 - 433 129   \n",
      "1          82-2-778-6587     1229.0        82-2-778-6586   \n",
      "2          82-2-778-6587     2642.0        82-2-778-6586   \n",
      "3        886-2-2975-1988     1542.0      886-2-2989-4978   \n",
      "4        886-2-2975-1988     2312.0      886-2-2989-4978   \n",
      "..                   ...        ...                  ...   \n",
      "97       +35 94 322 3540      326.0      +35 91 548 1637   \n",
      "98     +55 (11) 344-4444     3491.0    +55 (11) 333-2223   \n",
      "99     +55 (11) 344-4444     3365.0    +55 (11) 333-2223   \n",
      "100    +55 (11) 344-4444     1443.0    +55 (11) 333-2223   \n",
      "101  +358(0)17 - 433 127      490.0  +358(0)17 - 433 129   \n",
      "\n",
      "                       EMAIL  DATE_HIRED SALES_BRANCH_CODE TRIAL888  \n",
      "0    TSavolainen@grtd123.com   23-7-2014                31        T  \n",
      "1           CKim@grtd123.com  15-12-2014                32        T  \n",
      "2          JChoi@grtd123.com  27-11-2014                32        T  \n",
      "3          KKwao@grtd123.com   7-10-2014                33        T  \n",
      "4           CFon@grtd123.com    8-5-2012                33        T  \n",
      "..                       ...         ...               ...      ...  \n",
      "97     TIglesias@grtd123.com   19-2-2014                29        T  \n",
      "98        BLopes@grtd123.com   12-8-2013                30        T  \n",
      "99       VBarros@grtd123.com   10-2-2017                30        T  \n",
      "100   EGuimaraes@grtd123.com   14-2-2015                30        T  \n",
      "101    HLindholm@grtd123.com   17-8-2013                31        T  \n",
      "\n",
      "[102 rows x 11 columns]\n"
     ]
    }
   ],
   "source": [
    "sales_staff = sales_staff.rename(columns = {'POSITION_EN':'POSITION'})\n",
    "print(sales_staff)"
   ]
  },
  {
   "cell_type": "markdown",
   "metadata": {},
   "source": [
    "## Data verwijderen"
   ]
  },
  {
   "cell_type": "markdown",
   "metadata": {},
   "source": [
    "### Rijen"
   ]
  },
  {
   "cell_type": "markdown",
   "metadata": {},
   "source": [
    "De medewerkers op indexen 99, 100 en 101 hebben helaas ontslag genomen.<br>\n",
    "Verwijder de bijbehorende rijen uit het DataFrame. Gebruik slechts één keer de .drop()-methode."
   ]
  },
  {
   "cell_type": "code",
   "execution_count": 29,
   "metadata": {},
   "outputs": [
    {
     "name": "stdout",
     "output_type": "stream",
     "text": [
      "   SALES_STAFF_CODE FIRST_NAME   LAST_NAME                      POSITION  \\\n",
      "0               100     Tuomas  Savolainen  Level 2 Sales Representative   \n",
      "1               101   Chang-ho         Kim  Level 2 Sales Representative   \n",
      "2               102    Jung-ho        Choi  Level 3 Sales Representative   \n",
      "3               103  Kwei-Ping         Kao  Level 2 Sales Representative   \n",
      "4               104  Chin-Tsai        Fang  Level 3 Sales Representative   \n",
      "..              ...        ...         ...                           ...   \n",
      "94               92       Jake      Cartel  Level 2 Sales Representative   \n",
      "95               93       John      Sinden  Level 3 Sales Representative   \n",
      "96               94    Yolanda      Torres  Level 3 Sales Representative   \n",
      "97               95      Tomás    Iglesias  Level 2 Sales Representative   \n",
      "98               96     Bayard       Lopes               General Manager   \n",
      "\n",
      "             WORK_PHONE  EXTENSION                  FAX  \\\n",
      "0   +358(0)17 - 433 127      826.0  +358(0)17 - 433 129   \n",
      "1         82-2-778-6587     1229.0        82-2-778-6586   \n",
      "2         82-2-778-6587     2642.0        82-2-778-6586   \n",
      "3       886-2-2975-1988     1542.0      886-2-2989-4978   \n",
      "4       886-2-2975-1988     2312.0      886-2-2989-4978   \n",
      "..                  ...        ...                  ...   \n",
      "94  +(61) 03 2982  4242     1649.0  +(61) 03 2982  4243   \n",
      "95  +(61) 03 2982  4242     1893.0  +(61) 03 2982  4243   \n",
      "96      +35 94 322 3540      126.0      +35 91 548 1637   \n",
      "97      +35 94 322 3540      326.0      +35 91 548 1637   \n",
      "98    +55 (11) 344-4444     3491.0    +55 (11) 333-2223   \n",
      "\n",
      "                      EMAIL  DATE_HIRED SALES_BRANCH_CODE TRIAL888  \n",
      "0   TSavolainen@grtd123.com   23-7-2014                31        T  \n",
      "1          CKim@grtd123.com  15-12-2014                32        T  \n",
      "2         JChoi@grtd123.com  27-11-2014                32        T  \n",
      "3         KKwao@grtd123.com   7-10-2014                33        T  \n",
      "4          CFon@grtd123.com    8-5-2012                33        T  \n",
      "..                      ...         ...               ...      ...  \n",
      "94      JCartel@grtd123.com  15-12-2015                28        T  \n",
      "95      JSinden@grtd123.com  30-11-2015                28        T  \n",
      "96      YTorres@grtd123.com   29-8-2011                29        T  \n",
      "97    TIglesias@grtd123.com   19-2-2014                29        T  \n",
      "98       BLopes@grtd123.com   12-8-2013                30        T  \n",
      "\n",
      "[99 rows x 11 columns]\n"
     ]
    }
   ],
   "source": [
    "sales_staff = sales_staff.drop([99,100,101])\n",
    "\n",
    "print(sales_staff)"
   ]
  },
  {
   "cell_type": "markdown",
   "metadata": {},
   "source": [
    "### Kolommen"
   ]
  },
  {
   "cell_type": "markdown",
   "metadata": {},
   "source": [
    "Faxen zijn inmiddels ouderwets: niemand gebruikt zijn/haar faxnummer nog.<br>\n",
    "Verwijder de bijbehorende kolom uit het DataFrame."
   ]
  },
  {
   "cell_type": "code",
   "execution_count": 30,
   "metadata": {},
   "outputs": [
    {
     "name": "stdout",
     "output_type": "stream",
     "text": [
      "   SALES_STAFF_CODE FIRST_NAME   LAST_NAME                      POSITION  \\\n",
      "0               100     Tuomas  Savolainen  Level 2 Sales Representative   \n",
      "1               101   Chang-ho         Kim  Level 2 Sales Representative   \n",
      "2               102    Jung-ho        Choi  Level 3 Sales Representative   \n",
      "3               103  Kwei-Ping         Kao  Level 2 Sales Representative   \n",
      "4               104  Chin-Tsai        Fang  Level 3 Sales Representative   \n",
      "..              ...        ...         ...                           ...   \n",
      "94               92       Jake      Cartel  Level 2 Sales Representative   \n",
      "95               93       John      Sinden  Level 3 Sales Representative   \n",
      "96               94    Yolanda      Torres  Level 3 Sales Representative   \n",
      "97               95      Tomás    Iglesias  Level 2 Sales Representative   \n",
      "98               96     Bayard       Lopes               General Manager   \n",
      "\n",
      "             WORK_PHONE  EXTENSION                    EMAIL  DATE_HIRED  \\\n",
      "0   +358(0)17 - 433 127      826.0  TSavolainen@grtd123.com   23-7-2014   \n",
      "1         82-2-778-6587     1229.0         CKim@grtd123.com  15-12-2014   \n",
      "2         82-2-778-6587     2642.0        JChoi@grtd123.com  27-11-2014   \n",
      "3       886-2-2975-1988     1542.0        KKwao@grtd123.com   7-10-2014   \n",
      "4       886-2-2975-1988     2312.0         CFon@grtd123.com    8-5-2012   \n",
      "..                  ...        ...                      ...         ...   \n",
      "94  +(61) 03 2982  4242     1649.0      JCartel@grtd123.com  15-12-2015   \n",
      "95  +(61) 03 2982  4242     1893.0      JSinden@grtd123.com  30-11-2015   \n",
      "96      +35 94 322 3540      126.0      YTorres@grtd123.com   29-8-2011   \n",
      "97      +35 94 322 3540      326.0    TIglesias@grtd123.com   19-2-2014   \n",
      "98    +55 (11) 344-4444     3491.0       BLopes@grtd123.com   12-8-2013   \n",
      "\n",
      "   SALES_BRANCH_CODE TRIAL888  \n",
      "0                 31        T  \n",
      "1                 32        T  \n",
      "2                 32        T  \n",
      "3                 33        T  \n",
      "4                 33        T  \n",
      "..               ...      ...  \n",
      "94                28        T  \n",
      "95                28        T  \n",
      "96                29        T  \n",
      "97                29        T  \n",
      "98                30        T  \n",
      "\n",
      "[99 rows x 10 columns]\n"
     ]
    }
   ],
   "source": [
    "sales_staff = sales_staff.drop('FAX',axis=1)\n",
    "\n",
    "print(sales_staff)"
   ]
  }
 ],
 "metadata": {
  "kernelspec": {
   "display_name": "python-in-deds-P4iSP_yI-py3.11",
   "language": "python",
   "name": "python3"
  },
  "language_info": {
   "codemirror_mode": {
    "name": "ipython",
    "version": 3
   },
   "file_extension": ".py",
   "mimetype": "text/x-python",
   "name": "python",
   "nbconvert_exporter": "python",
   "pygments_lexer": "ipython3",
   "version": "3.12.2"
  }
 },
 "nbformat": 4,
 "nbformat_minor": 2
}
